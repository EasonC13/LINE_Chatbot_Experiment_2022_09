{
 "cells": [
  {
   "cell_type": "code",
   "execution_count": 1,
   "metadata": {
    "ExecuteTime": {
     "end_time": "2022-03-27T09:00:32.271575Z",
     "start_time": "2022-03-27T09:00:32.233726Z"
    }
   },
   "outputs": [
    {
     "data": {
      "text/plain": [
       "True"
      ]
     },
     "execution_count": 1,
     "metadata": {},
     "output_type": "execute_result"
    }
   ],
   "source": [
    "import os\n",
    "from dotenv import load_dotenv\n",
    "\n",
    "load_dotenv()"
   ]
  },
  {
   "cell_type": "code",
   "execution_count": 2,
   "metadata": {
    "ExecuteTime": {
     "end_time": "2022-03-27T09:00:32.433822Z",
     "start_time": "2022-03-27T09:00:32.273819Z"
    }
   },
   "outputs": [],
   "source": [
    "from translate import translate"
   ]
  },
  {
   "cell_type": "code",
   "execution_count": 3,
   "metadata": {
    "ExecuteTime": {
     "end_time": "2022-03-27T09:00:32.532668Z",
     "start_time": "2022-03-27T09:00:32.435322Z"
    }
   },
   "outputs": [],
   "source": [
    "import openai\n",
    "\n",
    "openai.api_key = os.getenv(\"OPENAI_API_KEY\")\n"
   ]
  },
  {
   "cell_type": "code",
   "execution_count": 4,
   "metadata": {
    "ExecuteTime": {
     "end_time": "2022-03-27T09:00:32.574067Z",
     "start_time": "2022-03-27T09:00:32.534222Z"
    }
   },
   "outputs": [],
   "source": [
    "from google.cloud import speech\n",
    "import sys, pathlib\n",
    "from pydub import AudioSegment\n",
    "import requests\n",
    "import json\n",
    "import os\n",
    "import uuid\n",
    "import datetime\n",
    "import numpy as np\n",
    "\n",
    "import io\n",
    "def voice_reco(client, filename):\n",
    "    with io.open(filename, \"rb\") as audio_file:\n",
    "        content = audio_file.read()\n",
    "    audio = speech.RecognitionAudio(content = content)\n",
    "\n",
    "\n",
    "    config = speech.RecognitionConfig(\n",
    "        encoding=speech.RecognitionConfig.AudioEncoding.LINEAR16,\n",
    "        sample_rate_hertz=16000,\n",
    "        language_code=\"zh-TW\"\n",
    "    )\n",
    "    response = client.recognize(config=config, audio=audio)\n",
    "    try:\n",
    "        text = response.results[0].alternatives[0].transcript\n",
    "    except:\n",
    "        text = \"\"\n",
    "    return text\n",
    "\n",
    "def process_voice_file(file_path):\n",
    "    text = \"\"\n",
    "    try:\n",
    "        # Instantiates a client\n",
    "        client = speech.SpeechClient.from_service_account_json(os.getenv('GOOGLE_SERVICE_JSON_PATH'))\n",
    "        # Detects speech in the audio file\n",
    "        wav = AudioSegment.from_wav(f'{file_path}.wav')\n",
    "        if wav.duration_seconds < 60:\n",
    "            text = voice_reco(client, f'{file_path}.wav')\n",
    "\n",
    "            all_texts = [text]\n",
    "        else:\n",
    "            text = \"too long... can't recognize...\"\n",
    "            wav_files = []\n",
    "            while wav.duration_seconds > 60:\n",
    "                temp_filename = str(uuid.uuid4())\n",
    "                temp_filename = f'{file_path}.wav'\n",
    "                slice_wav = wav[0:59]\n",
    "                slice_wav.export(temp_filename, format=\"wav\")\n",
    "                wav_files.append(temp_filename)\n",
    "                wav = wav[57:]\n",
    "            temp_filename = str(uuid.uuid4())\n",
    "            temp_filename = f'{file_path}.wav'\n",
    "            wav.export(temp_filename, format=\"wav\")\n",
    "            wav_files.append(temp_filename)\n",
    "            all_texts = []\n",
    "            for wav_file in wav_files:\n",
    "                text = voice_reco(client, wav_file)\n",
    "                all_texts.append(text)\n",
    "                os.remove(wav_file)\n",
    "\n",
    "            #response = client.long_running_recognize(config=config, audio=audio)\n",
    "            #response = operation.result(timeout=90)\n",
    "            #text = response.results[0].alternatives[0].transcript\n",
    "        #AAA.append(response)\n",
    "        text = \"\".join(all_texts)\n",
    "        \n",
    "\n",
    "        os.remove(f'{file_path}.wav')\n",
    "        os.remove(f'{file_path}')\n",
    "    except ValueError as e:\n",
    "        import traceback\n",
    "        import sys\n",
    "        exc_type, exc_value, exc_tb = sys.exc_info()\n",
    "        text = \"[ERROR]\\n\" + \"\".join(traceback.format_exception(exc_type, exc_value, exc_tb))\n",
    "        '''if update.message.chat.id in User_List:\n",
    "            result = \"[ERROR]\\n\" + \"\".join(traceback.format_exception(exc_type, exc_value, exc_tb))\n",
    "            bot.edit_message_text(text = result, message_id=reply_msg.message_id, chat_id= reply_msg.chat_id)\n",
    "        else:\n",
    "            result = \"Error, Might be no detectable text in the voice message. If you think this is an error otherwise, please contect the author @EasonC13\"\n",
    "            bot.edit_message_text(text = result, message_id=reply_msg.message_id, chat_id= reply_msg.chat_id)'''\n",
    "        \n",
    "    return text"
   ]
  },
  {
   "cell_type": "code",
   "execution_count": 5,
   "metadata": {
    "ExecuteTime": {
     "end_time": "2022-03-27T09:00:32.577873Z",
     "start_time": "2022-03-27T09:00:32.575297Z"
    }
   },
   "outputs": [],
   "source": [
    "import threading\n",
    "import time\n",
    "def doThreading(func, args, waitingTime = 0):\n",
    "    time.sleep(waitingTime)\n",
    "    t = threading.Thread(target = func, args = (args, ))\n",
    "    t.start()"
   ]
  },
  {
   "cell_type": "code",
   "execution_count": 6,
   "metadata": {
    "ExecuteTime": {
     "end_time": "2022-03-27T09:00:32.582722Z",
     "start_time": "2022-03-27T09:00:32.579190Z"
    }
   },
   "outputs": [],
   "source": [
    "def generate_text_response(input_text):\n",
    "    result = requests.post(os.getenv('API_URL'), \n",
    "                      headers = {'accept': 'application/json',\n",
    "                                 'Content-Type': 'application/json'},\n",
    "                      data = json.dumps({\n",
    "                          \"email\": os.getenv('API_USER'),\n",
    "                          \"secret\": os.getenv('API_SECRET'),\n",
    "                          \"text\": input_text,\n",
    "                          \"emotion\": 1,\n",
    "                          \"response_count\": 1,\n",
    "                      }))\n",
    "    response_text = result.json()[\"responses\"][0]\n",
    "\n",
    "    return response_text\n",
    "    print(f\"{text} => {response_text}\")"
   ]
  },
  {
   "cell_type": "code",
   "execution_count": 7,
   "metadata": {
    "ExecuteTime": {
     "end_time": "2022-03-27T09:00:32.590100Z",
     "start_time": "2022-03-27T09:00:32.584467Z"
    }
   },
   "outputs": [],
   "source": [
    "def process_voice_message(event):\n",
    "    AAA.append(event)\n",
    "    file_path = f'/tmp/{uuid.uuid4()}'\n",
    "    \n",
    "    message_content = line_bot_api.get_message_content(event.message.id)\n",
    "\n",
    "    with open(file_path, 'wb') as fd:\n",
    "        for chunk in message_content.iter_content():\n",
    "            fd.write(chunk)\n",
    "\n",
    "    subprocess.call(\n",
    "            f'ffmpeg -i {file_path} {file_path}.wav',\n",
    "            shell=True, stdout=subprocess.DEVNULL,\n",
    "            stderr=subprocess.STDOUT)\n",
    "\n",
    "    text = process_voice_file(file_path)\n",
    "    response_text = generate_text_response(text)\n",
    "    print(f'{text} => {response_text}')\n",
    "\n",
    "    line_bot_api.reply_message(\n",
    "        event.reply_token,\n",
    "        TextSendMessage(text=response_text))\n",
    "\n",
    "    user_profile = line_bot_api.get_profile(event.source.user_id)\n",
    "    GPT3_chat_history_col.insert_one({\n",
    "        'input_text': text,\n",
    "        'response_text': response_text,\n",
    "        'event_message_id': event.message.id,\n",
    "        'user': {\n",
    "            \"display_name\": user_profile.display_name,\n",
    "            \"user_id\": event.source.user_id\n",
    "        },\n",
    "        \"time\": datetime.datetime.now(),\n",
    "        \"input_type\": 'voice',\n",
    "    })"
   ]
  },
  {
   "cell_type": "code",
   "execution_count": 8,
   "metadata": {
    "ExecuteTime": {
     "end_time": "2022-03-27T09:00:32.594997Z",
     "start_time": "2022-03-27T09:00:32.592175Z"
    }
   },
   "outputs": [],
   "source": [
    "def create_prompt(user, prev_msgs, text, num = -3):\n",
    "    prompt = user['pre_prompt']\n",
    "    for msg in prev_msgs[num:]:\n",
    "        prompt += f\"{user['chat_from']}: {msg['input_text_en']}\\n{user['chat_with']}: {msg['response_text_en']}\\n\"\n",
    "    prompt += f\"{user['chat_from']}: {text}\\n{user['chat_with']}: \"\n",
    "    return prompt"
   ]
  },
  {
   "cell_type": "code",
   "execution_count": null,
   "metadata": {
    "ExecuteTime": {
     "end_time": "2022-03-01T02:29:46.316616Z",
     "start_time": "2022-03-01T02:29:46.066519Z"
    }
   },
   "outputs": [],
   "source": []
  },
  {
   "cell_type": "code",
   "execution_count": 9,
   "metadata": {
    "ExecuteTime": {
     "end_time": "2022-03-27T09:00:32.600082Z",
     "start_time": "2022-03-27T09:00:32.596755Z"
    }
   },
   "outputs": [],
   "source": [
    "def get_user(event):\n",
    "    user_profile = line_bot_api.get_profile(event.source.user_id)\n",
    "    \n",
    "    user = GPT3_chat_user_col.find_one({\n",
    "        'user_id': event.source.user_id\n",
    "    })\n",
    "    if user == None:\n",
    "        user = {\n",
    "            'user_id': event.source.user_id,\n",
    "            'display_name': user_profile.display_name,\n",
    "            'pre_prompt': '',\n",
    "            'chat_with': 'Friend',\n",
    "            'chat_from': 'You',\n",
    "            'sn': 0\n",
    "        }\n",
    "        GPT3_chat_user_col.insert_one(user)\n",
    "    return user"
   ]
  },
  {
   "cell_type": "code",
   "execution_count": 10,
   "metadata": {
    "ExecuteTime": {
     "end_time": "2022-03-27T09:00:32.604820Z",
     "start_time": "2022-03-27T09:00:32.601636Z"
    }
   },
   "outputs": [],
   "source": [
    "def update_pre_prompt(user_id, text):\n",
    "    GPT3_chat_user_col.update_one({\n",
    "            \"user_id\": user_id\n",
    "        },{\n",
    "            \"$set\": {\"pre_prompt\": text}\n",
    "        })\n",
    "\n",
    "def update_chat_with(user_id, chat_with, chat_from = \"You\"):\n",
    "    GPT3_chat_user_col.update_one({\n",
    "            \"user_id\": user_id\n",
    "        },{\"$set\":{\n",
    "            \"chat_with\": chat_with,\n",
    "            \"chat_from\": chat_from,\n",
    "        }})"
   ]
  },
  {
   "cell_type": "code",
   "execution_count": 11,
   "metadata": {
    "ExecuteTime": {
     "end_time": "2022-03-27T09:00:32.614612Z",
     "start_time": "2022-03-27T09:00:32.606121Z"
    }
   },
   "outputs": [],
   "source": [
    "def generate_GPT3_response(event, text):\n",
    "    user = get_user(event)\n",
    "    \n",
    "    prev_msgs = GPT3_chat_history_col.find({\n",
    "        'user.user_id': event.source.user_id,\n",
    "        'user.sn': user['sn'] #serial number\n",
    "    })\n",
    "    prev_msgs = list(prev_msgs)\n",
    "    prev_msgs.sort(key=lambda x: x['time'])\n",
    "    \n",
    "    prompt = create_prompt(user, prev_msgs, text, -3)\n",
    "    \n",
    "    have_second_chance = True\n",
    "    max_try = 4\n",
    "\n",
    "    for i in range(max_try):\n",
    "        response = openai.Completion.create(\n",
    "          engine=\"text-davinci-001\",\n",
    "          prompt=prompt,\n",
    "          temperature=0.6 + 0.1*i,\n",
    "          max_tokens=60,\n",
    "          top_p=1.0,\n",
    "          frequency_penalty=0.5 + 0.5 * i,\n",
    "          presence_penalty=0.5 + 0.5 * i,\n",
    "          stop=[\"You:\"]\n",
    "        )\n",
    "\n",
    "        response_text = response.choices[0].text.replace(\"\\n\", \"\")\n",
    "        if i != 0: print(f\"{i}th try  => {response_text}\", end='\\n---\\n')\n",
    "\n",
    "        prev_responses = list(map(lambda x: x['response_text_en'], prev_msgs[-3:]))\n",
    "        count = np.unique(prev_responses, return_counts=True)[1]\n",
    "        if response_text in prev_responses and sum(count>1):\n",
    "            if have_second_chance == True:\n",
    "                have_second_chance = False\n",
    "            elif i == max_try - 2:\n",
    "                #print(\"Last Try\")\n",
    "                prompt = create_prompt(user, [], text, -1)\n",
    "            else:\n",
    "                prompt = create_prompt(user, prev_msgs, text, -1)\n",
    "            #print(\"New Prompt: \", prompt)\n",
    "        else:\n",
    "            break\n",
    "    print(\"--GPT3 Input/Output--\")\n",
    "    print(prompt + response_text, end = '\\n')\n",
    "    return response_text"
   ]
  },
  {
   "cell_type": "code",
   "execution_count": 12,
   "metadata": {
    "ExecuteTime": {
     "end_time": "2022-03-27T09:00:32.618957Z",
     "start_time": "2022-03-27T09:00:32.615925Z"
    }
   },
   "outputs": [],
   "source": [
    "def norm_text(text):\n",
    "    text = text.replace(\"&#39;\", \"'\")\n",
    "    return text"
   ]
  },
  {
   "cell_type": "code",
   "execution_count": 13,
   "metadata": {
    "ExecuteTime": {
     "end_time": "2022-03-27T09:00:32.627232Z",
     "start_time": "2022-03-27T09:00:32.620337Z"
    }
   },
   "outputs": [],
   "source": [
    "def process_text_message(event):\n",
    "    AAA.append(event)\n",
    "    text = event.message.text\n",
    "    \n",
    "    if process_command(event, text):\n",
    "        return True\n",
    "    \n",
    "    translated_result = translate(text, target=\"en\")\n",
    "    #response_text = generate_GPT3_response(event, text)\n",
    "    \n",
    "    text_en = translated_result['translatedText']\n",
    "    text_en = norm_text(text_en)\n",
    "    text_source = translated_result['detectedSourceLanguage']\n",
    "    \n",
    "    response_text = \"\"\n",
    "    while response_text == \"\":\n",
    "        response_text_en = generate_GPT3_response(event, text_en)\n",
    "        response_text_en = norm_text(response_text_en)\n",
    "\n",
    "        if text_source[:2] == \"zh\":\n",
    "            response_text = translate(response_text_en, target=\"zh-TW\")['translatedText']\n",
    "        elif text_source != 'en':\n",
    "            response_text = translate(response_text_en, target=text_source)['translatedText']\n",
    "        else:\n",
    "            response_text = response_text_en\n",
    "\n",
    "    \n",
    "    print('--Origin--')\n",
    "    print(f'{text_en} => {response_text_en}')\n",
    "    print('--Translated--')\n",
    "    print(f'{text} => {response_text}')\n",
    "    print('========')\n",
    "    \n",
    "    message = []\n",
    "    message.append(TextSendMessage(text=response_text))\n",
    "    #message.append(\n",
    "    #    TextSendMessage(text=f'此聊天機器人會根據先前的對話輸出結果，如果持續說重複的話，請輸入「重置」以修復')\n",
    "    #)\n",
    "    line_bot_api.reply_message(event.reply_token, message)\n",
    "\n",
    "    user_profile = line_bot_api.get_profile(event.source.user_id)\n",
    "    user = get_user(event)\n",
    "    \n",
    "    GPT3_chat_history_col.insert_one({\n",
    "        'input_text': text,\n",
    "        'input_text_en': text_en,\n",
    "        'response_text_en': response_text_en,\n",
    "        'response_text': response_text,\n",
    "        'event_message_id': event.message.id,\n",
    "        'user': {\n",
    "            \"display_name\": user_profile.display_name,\n",
    "            \"user_id\": event.source.user_id,\n",
    "            \"sn\": user['sn'],\n",
    "        },\n",
    "        \"time\": datetime.datetime.now(),\n",
    "        \"input_type\": 'text',\n",
    "    })"
   ]
  },
  {
   "cell_type": "code",
   "execution_count": 14,
   "metadata": {
    "ExecuteTime": {
     "end_time": "2022-03-27T09:00:32.635509Z",
     "start_time": "2022-03-27T09:00:32.628479Z"
    }
   },
   "outputs": [],
   "source": [
    "change_topic_command_zh = [\n",
    "    '換個話題',\n",
    "]\n",
    "change_topic_command_en = [\n",
    "    'change topic'\n",
    "]\n",
    "\n",
    "\n",
    "pre_prompt_options = {\n",
    "    '模式聊天': '\\n',\n",
    "    '模式問答': 'Firend is a highly intelligent question answering bot. If you ask me a question that is rooted in truth, I will give you the answer. If you ask me a question that is nonsense, trickery, or has no clear answer, I will respond with \"Unknown\".\\n',\n",
    "    '模式助理': 'The following is a conversation with an AI assistant named Friend. The assistant is helpful, creative, clever, and very friendly.\\n',\n",
    "    '模式諷刺': 'Friend is a chatbot that reluctantly answers questions with sarcastic responses:\\n',\n",
    "    '模式幽默': 'Friend is a chatbot that answers questions with humor responses:\\n',\n",
    "}\n",
    "\n",
    "def increase_chat_sn(user_id):\n",
    "    GPT3_chat_user_col.update_one({\n",
    "            \"user_id\": user_id\n",
    "        },{\n",
    "            \"$inc\": {'sn': 1}\n",
    "        })\n",
    "\n",
    "def process_command(event, text):\n",
    "    user_id = event.source.user_id\n",
    "    user = GPT3_chat_user_col.find_one({\n",
    "        \"user_id\": user_id\n",
    "    })\n",
    "    \n",
    "    if text in change_topic_command_zh:\n",
    "        increase_chat_sn(user_id)\n",
    "        line_bot_api.reply_message(event.reply_token, \n",
    "           TextSendMessage(text='''已更換話題，讓我們繼續聊天吧～\\n如果我又持續說重複的話，請輸入「換個話題」以繼續對話'''))\n",
    "        return True\n",
    "    elif text in change_topic_command_en:\n",
    "        increase_chat_sn(user_id)\n",
    "        line_bot_api.reply_message(event.reply_token, \n",
    "           TextSendMessage(text='''Topic changed, let's continue chatting.\\nIf I keep saying weird things again, please enter 'change topic'.'''))\n",
    "        return True\n",
    "    elif text == '模式':\n",
    "        line_bot_api.reply_message(event.reply_token, \n",
    "           TextSendMessage(text='''透過輸入\\n可以更換為下列模式：\\n1. 模式聊天\\n2. 模式問答\\n3. 模式助理\\n4. 模式諷刺\\n5. 模式幽默\\n6. 模式自訂{text}'''))\n",
    "        return True\n",
    "    elif text[:4] == \"模式自訂\":\n",
    "        update_pre_prompt(user_id, text[4:])\n",
    "    elif '模式' in text:\n",
    "        if text[:4] == \"模式自訂\":\n",
    "            pre_prompt = text[4:]\n",
    "        else:\n",
    "            pre_prompt = pre_prompt_options.get(text, None)\n",
    "            \n",
    "        if pre_prompt:\n",
    "            update_pre_prompt(user_id, pre_prompt)\n",
    "            line_bot_api.reply_message(event.reply_token, \n",
    "               TextSendMessage(text=f'''已變更模式為{text}\\n前導詞為{pre_prompt}'''))\n",
    "            return True\n",
    "        \n",
    "    return False"
   ]
  },
  {
   "cell_type": "code",
   "execution_count": 15,
   "metadata": {
    "ExecuteTime": {
     "end_time": "2022-03-27T09:00:32.851450Z",
     "start_time": "2022-03-27T09:00:32.636746Z"
    }
   },
   "outputs": [
    {
     "name": "stdout",
     "output_type": "stream",
     "text": [
      " * Serving Flask app \"__main__\" (lazy loading)\n",
      " * Environment: production\n",
      "   WARNING: This is a development server. Do not use it in a production deployment.\n",
      "   Use a production WSGI server instead.\n",
      " * Debug mode: off\n"
     ]
    },
    {
     "ename": "OSError",
     "evalue": "[Errno 98] Address already in use",
     "output_type": "error",
     "traceback": [
      "\u001b[0;31m--------------------------------------------------------------------------\u001b[0m",
      "\u001b[0;31mOSError\u001b[0m                                  Traceback (most recent call last)",
      "\u001b[0;32m<ipython-input-15-9d250c39034c>\u001b[0m in \u001b[0;36m<module>\u001b[0;34m\u001b[0m\n\u001b[1;32m     63\u001b[0m \u001b[0mAAA\u001b[0m \u001b[0;34m=\u001b[0m \u001b[0;34m[\u001b[0m\u001b[0;34m]\u001b[0m\u001b[0;34m\u001b[0m\u001b[0;34m\u001b[0m\u001b[0m\n\u001b[1;32m     64\u001b[0m \u001b[0;32mif\u001b[0m \u001b[0m__name__\u001b[0m \u001b[0;34m==\u001b[0m \u001b[0;34m\"__main__\"\u001b[0m\u001b[0;34m:\u001b[0m\u001b[0;34m\u001b[0m\u001b[0;34m\u001b[0m\u001b[0m\n\u001b[0;32m---> 65\u001b[0;31m     \u001b[0mapp\u001b[0m\u001b[0;34m.\u001b[0m\u001b[0mrun\u001b[0m\u001b[0;34m(\u001b[0m\u001b[0mport\u001b[0m\u001b[0;34m=\u001b[0m\u001b[0mos\u001b[0m\u001b[0;34m.\u001b[0m\u001b[0mgetenv\u001b[0m\u001b[0;34m(\u001b[0m\u001b[0;34m'API_PORT'\u001b[0m\u001b[0;34m)\u001b[0m\u001b[0;34m)\u001b[0m\u001b[0;34m\u001b[0m\u001b[0;34m\u001b[0m\u001b[0m\n\u001b[0m",
      "\u001b[0;32m~/anaconda3/envs/chatbot/lib/python3.7/site-packages/flask/app.py\u001b[0m in \u001b[0;36mrun\u001b[0;34m(self, host, port, debug, load_dotenv, **options)\u001b[0m\n\u001b[1;32m    988\u001b[0m \u001b[0;34m\u001b[0m\u001b[0m\n\u001b[1;32m    989\u001b[0m         \u001b[0;32mtry\u001b[0m\u001b[0;34m:\u001b[0m\u001b[0;34m\u001b[0m\u001b[0;34m\u001b[0m\u001b[0m\n\u001b[0;32m--> 990\u001b[0;31m             \u001b[0mrun_simple\u001b[0m\u001b[0;34m(\u001b[0m\u001b[0mhost\u001b[0m\u001b[0;34m,\u001b[0m \u001b[0mport\u001b[0m\u001b[0;34m,\u001b[0m \u001b[0mself\u001b[0m\u001b[0;34m,\u001b[0m \u001b[0;34m**\u001b[0m\u001b[0moptions\u001b[0m\u001b[0;34m)\u001b[0m\u001b[0;34m\u001b[0m\u001b[0;34m\u001b[0m\u001b[0m\n\u001b[0m\u001b[1;32m    991\u001b[0m         \u001b[0;32mfinally\u001b[0m\u001b[0;34m:\u001b[0m\u001b[0;34m\u001b[0m\u001b[0;34m\u001b[0m\u001b[0m\n\u001b[1;32m    992\u001b[0m             \u001b[0;31m# reset the first request information if the development server\u001b[0m\u001b[0;34m\u001b[0m\u001b[0;34m\u001b[0m\u001b[0;34m\u001b[0m\u001b[0m\n",
      "\u001b[0;32m~/anaconda3/envs/chatbot/lib/python3.7/site-packages/werkzeug/serving.py\u001b[0m in \u001b[0;36mrun_simple\u001b[0;34m(hostname, port, application, use_reloader, use_debugger, use_evalex, extra_files, reloader_interval, reloader_type, threaded, processes, request_handler, static_files, passthrough_errors, ssl_context)\u001b[0m\n\u001b[1;32m   1050\u001b[0m         \u001b[0mrun_with_reloader\u001b[0m\u001b[0;34m(\u001b[0m\u001b[0minner\u001b[0m\u001b[0;34m,\u001b[0m \u001b[0mextra_files\u001b[0m\u001b[0;34m,\u001b[0m \u001b[0mreloader_interval\u001b[0m\u001b[0;34m,\u001b[0m \u001b[0mreloader_type\u001b[0m\u001b[0;34m)\u001b[0m\u001b[0;34m\u001b[0m\u001b[0;34m\u001b[0m\u001b[0m\n\u001b[1;32m   1051\u001b[0m     \u001b[0;32melse\u001b[0m\u001b[0;34m:\u001b[0m\u001b[0;34m\u001b[0m\u001b[0;34m\u001b[0m\u001b[0m\n\u001b[0;32m-> 1052\u001b[0;31m         \u001b[0minner\u001b[0m\u001b[0;34m(\u001b[0m\u001b[0;34m)\u001b[0m\u001b[0;34m\u001b[0m\u001b[0;34m\u001b[0m\u001b[0m\n\u001b[0m\u001b[1;32m   1053\u001b[0m \u001b[0;34m\u001b[0m\u001b[0m\n\u001b[1;32m   1054\u001b[0m \u001b[0;34m\u001b[0m\u001b[0m\n",
      "\u001b[0;32m~/anaconda3/envs/chatbot/lib/python3.7/site-packages/werkzeug/serving.py\u001b[0m in \u001b[0;36minner\u001b[0;34m()\u001b[0m\n\u001b[1;32m   1003\u001b[0m             \u001b[0mpassthrough_errors\u001b[0m\u001b[0;34m,\u001b[0m\u001b[0;34m\u001b[0m\u001b[0;34m\u001b[0m\u001b[0m\n\u001b[1;32m   1004\u001b[0m             \u001b[0mssl_context\u001b[0m\u001b[0;34m,\u001b[0m\u001b[0;34m\u001b[0m\u001b[0;34m\u001b[0m\u001b[0m\n\u001b[0;32m-> 1005\u001b[0;31m             \u001b[0mfd\u001b[0m\u001b[0;34m=\u001b[0m\u001b[0mfd\u001b[0m\u001b[0;34m,\u001b[0m\u001b[0;34m\u001b[0m\u001b[0;34m\u001b[0m\u001b[0m\n\u001b[0m\u001b[1;32m   1006\u001b[0m         )\n\u001b[1;32m   1007\u001b[0m         \u001b[0;32mif\u001b[0m \u001b[0mfd\u001b[0m \u001b[0;32mis\u001b[0m \u001b[0;32mNone\u001b[0m\u001b[0;34m:\u001b[0m\u001b[0;34m\u001b[0m\u001b[0;34m\u001b[0m\u001b[0m\n",
      "\u001b[0;32m~/anaconda3/envs/chatbot/lib/python3.7/site-packages/werkzeug/serving.py\u001b[0m in \u001b[0;36mmake_server\u001b[0;34m(host, port, app, threaded, processes, request_handler, passthrough_errors, ssl_context, fd)\u001b[0m\n\u001b[1;32m    846\u001b[0m     \u001b[0;32melif\u001b[0m \u001b[0mthreaded\u001b[0m\u001b[0;34m:\u001b[0m\u001b[0;34m\u001b[0m\u001b[0;34m\u001b[0m\u001b[0m\n\u001b[1;32m    847\u001b[0m         return ThreadedWSGIServer(\n\u001b[0;32m--> 848\u001b[0;31m             \u001b[0mhost\u001b[0m\u001b[0;34m,\u001b[0m \u001b[0mport\u001b[0m\u001b[0;34m,\u001b[0m \u001b[0mapp\u001b[0m\u001b[0;34m,\u001b[0m \u001b[0mrequest_handler\u001b[0m\u001b[0;34m,\u001b[0m \u001b[0mpassthrough_errors\u001b[0m\u001b[0;34m,\u001b[0m \u001b[0mssl_context\u001b[0m\u001b[0;34m,\u001b[0m \u001b[0mfd\u001b[0m\u001b[0;34m=\u001b[0m\u001b[0mfd\u001b[0m\u001b[0;34m\u001b[0m\u001b[0;34m\u001b[0m\u001b[0m\n\u001b[0m\u001b[1;32m    849\u001b[0m         )\n\u001b[1;32m    850\u001b[0m     \u001b[0;32melif\u001b[0m \u001b[0mprocesses\u001b[0m \u001b[0;34m>\u001b[0m \u001b[0;36m1\u001b[0m\u001b[0;34m:\u001b[0m\u001b[0;34m\u001b[0m\u001b[0;34m\u001b[0m\u001b[0m\n",
      "\u001b[0;32m~/anaconda3/envs/chatbot/lib/python3.7/site-packages/werkzeug/serving.py\u001b[0m in \u001b[0;36m__init__\u001b[0;34m(self, host, port, app, handler, passthrough_errors, ssl_context, fd)\u001b[0m\n\u001b[1;32m    738\u001b[0m         \u001b[0;32mif\u001b[0m \u001b[0mself\u001b[0m\u001b[0;34m.\u001b[0m\u001b[0maddress_family\u001b[0m \u001b[0;34m==\u001b[0m \u001b[0maf_unix\u001b[0m \u001b[0;32mand\u001b[0m \u001b[0mos\u001b[0m\u001b[0;34m.\u001b[0m\u001b[0mpath\u001b[0m\u001b[0;34m.\u001b[0m\u001b[0mexists\u001b[0m\u001b[0;34m(\u001b[0m\u001b[0mserver_address\u001b[0m\u001b[0;34m)\u001b[0m\u001b[0;34m:\u001b[0m\u001b[0;34m\u001b[0m\u001b[0;34m\u001b[0m\u001b[0m\n\u001b[1;32m    739\u001b[0m             \u001b[0mos\u001b[0m\u001b[0;34m.\u001b[0m\u001b[0munlink\u001b[0m\u001b[0;34m(\u001b[0m\u001b[0mserver_address\u001b[0m\u001b[0;34m)\u001b[0m\u001b[0;34m\u001b[0m\u001b[0;34m\u001b[0m\u001b[0m\n\u001b[0;32m--> 740\u001b[0;31m         \u001b[0mHTTPServer\u001b[0m\u001b[0;34m.\u001b[0m\u001b[0m__init__\u001b[0m\u001b[0;34m(\u001b[0m\u001b[0mself\u001b[0m\u001b[0;34m,\u001b[0m \u001b[0mserver_address\u001b[0m\u001b[0;34m,\u001b[0m \u001b[0mhandler\u001b[0m\u001b[0;34m)\u001b[0m\u001b[0;34m\u001b[0m\u001b[0;34m\u001b[0m\u001b[0m\n\u001b[0m\u001b[1;32m    741\u001b[0m \u001b[0;34m\u001b[0m\u001b[0m\n\u001b[1;32m    742\u001b[0m         \u001b[0mself\u001b[0m\u001b[0;34m.\u001b[0m\u001b[0mapp\u001b[0m \u001b[0;34m=\u001b[0m \u001b[0mapp\u001b[0m\u001b[0;34m\u001b[0m\u001b[0;34m\u001b[0m\u001b[0m\n",
      "\u001b[0;32m~/anaconda3/envs/chatbot/lib/python3.7/socketserver.py\u001b[0m in \u001b[0;36m__init__\u001b[0;34m(self, server_address, RequestHandlerClass, bind_and_activate)\u001b[0m\n\u001b[1;32m    450\u001b[0m         \u001b[0;32mif\u001b[0m \u001b[0mbind_and_activate\u001b[0m\u001b[0;34m:\u001b[0m\u001b[0;34m\u001b[0m\u001b[0;34m\u001b[0m\u001b[0m\n\u001b[1;32m    451\u001b[0m             \u001b[0;32mtry\u001b[0m\u001b[0;34m:\u001b[0m\u001b[0;34m\u001b[0m\u001b[0;34m\u001b[0m\u001b[0m\n\u001b[0;32m--> 452\u001b[0;31m                 \u001b[0mself\u001b[0m\u001b[0;34m.\u001b[0m\u001b[0mserver_bind\u001b[0m\u001b[0;34m(\u001b[0m\u001b[0;34m)\u001b[0m\u001b[0;34m\u001b[0m\u001b[0;34m\u001b[0m\u001b[0m\n\u001b[0m\u001b[1;32m    453\u001b[0m                 \u001b[0mself\u001b[0m\u001b[0;34m.\u001b[0m\u001b[0mserver_activate\u001b[0m\u001b[0;34m(\u001b[0m\u001b[0;34m)\u001b[0m\u001b[0;34m\u001b[0m\u001b[0;34m\u001b[0m\u001b[0m\n\u001b[1;32m    454\u001b[0m             \u001b[0;32mexcept\u001b[0m\u001b[0;34m:\u001b[0m\u001b[0;34m\u001b[0m\u001b[0;34m\u001b[0m\u001b[0m\n",
      "\u001b[0;32m~/anaconda3/envs/chatbot/lib/python3.7/http/server.py\u001b[0m in \u001b[0;36mserver_bind\u001b[0;34m(self)\u001b[0m\n\u001b[1;32m    135\u001b[0m     \u001b[0;32mdef\u001b[0m \u001b[0mserver_bind\u001b[0m\u001b[0;34m(\u001b[0m\u001b[0mself\u001b[0m\u001b[0;34m)\u001b[0m\u001b[0;34m:\u001b[0m\u001b[0;34m\u001b[0m\u001b[0;34m\u001b[0m\u001b[0m\n\u001b[1;32m    136\u001b[0m         \u001b[0;34m\"\"\"Override server_bind to store the server name.\"\"\"\u001b[0m\u001b[0;34m\u001b[0m\u001b[0;34m\u001b[0m\u001b[0m\n\u001b[0;32m--> 137\u001b[0;31m         \u001b[0msocketserver\u001b[0m\u001b[0;34m.\u001b[0m\u001b[0mTCPServer\u001b[0m\u001b[0;34m.\u001b[0m\u001b[0mserver_bind\u001b[0m\u001b[0;34m(\u001b[0m\u001b[0mself\u001b[0m\u001b[0;34m)\u001b[0m\u001b[0;34m\u001b[0m\u001b[0;34m\u001b[0m\u001b[0m\n\u001b[0m\u001b[1;32m    138\u001b[0m         \u001b[0mhost\u001b[0m\u001b[0;34m,\u001b[0m \u001b[0mport\u001b[0m \u001b[0;34m=\u001b[0m \u001b[0mself\u001b[0m\u001b[0;34m.\u001b[0m\u001b[0mserver_address\u001b[0m\u001b[0;34m[\u001b[0m\u001b[0;34m:\u001b[0m\u001b[0;36m2\u001b[0m\u001b[0;34m]\u001b[0m\u001b[0;34m\u001b[0m\u001b[0;34m\u001b[0m\u001b[0m\n\u001b[1;32m    139\u001b[0m         \u001b[0mself\u001b[0m\u001b[0;34m.\u001b[0m\u001b[0mserver_name\u001b[0m \u001b[0;34m=\u001b[0m \u001b[0msocket\u001b[0m\u001b[0;34m.\u001b[0m\u001b[0mgetfqdn\u001b[0m\u001b[0;34m(\u001b[0m\u001b[0mhost\u001b[0m\u001b[0;34m)\u001b[0m\u001b[0;34m\u001b[0m\u001b[0;34m\u001b[0m\u001b[0m\n",
      "\u001b[0;32m~/anaconda3/envs/chatbot/lib/python3.7/socketserver.py\u001b[0m in \u001b[0;36mserver_bind\u001b[0;34m(self)\u001b[0m\n\u001b[1;32m    464\u001b[0m         \u001b[0;32mif\u001b[0m \u001b[0mself\u001b[0m\u001b[0;34m.\u001b[0m\u001b[0mallow_reuse_address\u001b[0m\u001b[0;34m:\u001b[0m\u001b[0;34m\u001b[0m\u001b[0;34m\u001b[0m\u001b[0m\n\u001b[1;32m    465\u001b[0m             \u001b[0mself\u001b[0m\u001b[0;34m.\u001b[0m\u001b[0msocket\u001b[0m\u001b[0;34m.\u001b[0m\u001b[0msetsockopt\u001b[0m\u001b[0;34m(\u001b[0m\u001b[0msocket\u001b[0m\u001b[0;34m.\u001b[0m\u001b[0mSOL_SOCKET\u001b[0m\u001b[0;34m,\u001b[0m \u001b[0msocket\u001b[0m\u001b[0;34m.\u001b[0m\u001b[0mSO_REUSEADDR\u001b[0m\u001b[0;34m,\u001b[0m \u001b[0;36m1\u001b[0m\u001b[0;34m)\u001b[0m\u001b[0;34m\u001b[0m\u001b[0;34m\u001b[0m\u001b[0m\n\u001b[0;32m--> 466\u001b[0;31m         \u001b[0mself\u001b[0m\u001b[0;34m.\u001b[0m\u001b[0msocket\u001b[0m\u001b[0;34m.\u001b[0m\u001b[0mbind\u001b[0m\u001b[0;34m(\u001b[0m\u001b[0mself\u001b[0m\u001b[0;34m.\u001b[0m\u001b[0mserver_address\u001b[0m\u001b[0;34m)\u001b[0m\u001b[0;34m\u001b[0m\u001b[0;34m\u001b[0m\u001b[0m\n\u001b[0m\u001b[1;32m    467\u001b[0m         \u001b[0mself\u001b[0m\u001b[0;34m.\u001b[0m\u001b[0mserver_address\u001b[0m \u001b[0;34m=\u001b[0m \u001b[0mself\u001b[0m\u001b[0;34m.\u001b[0m\u001b[0msocket\u001b[0m\u001b[0;34m.\u001b[0m\u001b[0mgetsockname\u001b[0m\u001b[0;34m(\u001b[0m\u001b[0;34m)\u001b[0m\u001b[0;34m\u001b[0m\u001b[0;34m\u001b[0m\u001b[0m\n\u001b[1;32m    468\u001b[0m \u001b[0;34m\u001b[0m\u001b[0m\n",
      "\u001b[0;31mOSError\u001b[0m: [Errno 98] Address already in use"
     ]
    }
   ],
   "source": [
    "from flask import Flask, request, abort\n",
    "import subprocess\n",
    "\n",
    "from linebot import (\n",
    "    LineBotApi, WebhookHandler\n",
    ")\n",
    "from linebot.exceptions import (\n",
    "    InvalidSignatureError\n",
    ")\n",
    "from linebot.models import (\n",
    "    MessageEvent,\n",
    "    TextMessage,\n",
    "    TextSendMessage,\n",
    "    TemplateSendMessage,\n",
    "    MessageTemplateAction,\n",
    "    ButtonsTemplate,\n",
    "    PostbackEvent,\n",
    "    PostbackTemplateAction,\n",
    "    AudioMessage,\n",
    "    AudioSendMessage\n",
    ")\n",
    "\n",
    "app = Flask(__name__)\n",
    "\n",
    "line_bot_api = LineBotApi(os.getenv('CHANNEL_ACCESS_TOKEN'))\n",
    "handler = WebhookHandler(os.getenv('CHANNEL_SECRET'))\n",
    "\n",
    "import pymongo\n",
    "MongoClient = pymongo.MongoClient(os.getenv('MONGODB_URI'))\n",
    "GPT3_chat_history_col = MongoClient[\"GPT3_Chatbot\"][\"GPT3_Chat\"]\n",
    "GPT3_chat_user_col = MongoClient[\"GPT3_Chatbot\"][\"Users\"]\n",
    "\n",
    "@app.route(\"/linebot\", methods=['POST'])\n",
    "def callback():\n",
    "    # get X-Line-Signature header value\n",
    "    signature = request.headers['X-Line-Signature']\n",
    "\n",
    "    # get request body as text\n",
    "    body = request.get_data(as_text=True)\n",
    "    app.logger.info(\"Request body: \" + body)\n",
    "\n",
    "    # handle webhook body\n",
    "    try:\n",
    "        handler.handle(body, signature)\n",
    "    except InvalidSignatureError:\n",
    "        print(\"Invalid signature. Please check your channel access token/channel secret.\")\n",
    "        abort(400)\n",
    "\n",
    "    return 'OK'\n",
    "\n",
    "\n",
    "@handler.add(MessageEvent, message=TextMessage)\n",
    "def handleTextMessage(event):\n",
    "    doThreading(process_text_message, args = (event))\n",
    "\n",
    "@handler.add(MessageEvent, message=AudioMessage)\n",
    "def handleAudioMessage(event):\n",
    "    doThreading(process_voice_message, args = (event))\n",
    "    \n",
    "\n",
    "    \n",
    "\n",
    "AAA = []\n",
    "if __name__ == \"__main__\":\n",
    "    app.run(port=os.getenv('API_PORT'))"
   ]
  },
  {
   "cell_type": "code",
   "execution_count": 16,
   "metadata": {
    "ExecuteTime": {
     "end_time": "2022-03-27T09:00:42.168409Z",
     "start_time": "2022-03-27T09:00:42.158623Z"
    }
   },
   "outputs": [
    {
     "data": {
      "text/plain": [
       "'32005'"
      ]
     },
     "execution_count": 16,
     "metadata": {},
     "output_type": "execute_result"
    }
   ],
   "source": [
    "os.getenv('API_PORT')"
   ]
  },
  {
   "cell_type": "code",
   "execution_count": null,
   "metadata": {
    "ExecuteTime": {
     "end_time": "2022-03-27T09:00:32.853409Z",
     "start_time": "2022-03-27T09:00:37.835Z"
    }
   },
   "outputs": [],
   "source": [
    "event = AAA[-1]"
   ]
  },
  {
   "cell_type": "code",
   "execution_count": null,
   "metadata": {
    "ExecuteTime": {
     "end_time": "2022-03-27T09:00:32.854430Z",
     "start_time": "2022-03-27T09:00:37.836Z"
    }
   },
   "outputs": [],
   "source": [
    "event"
   ]
  },
  {
   "cell_type": "code",
   "execution_count": null,
   "metadata": {},
   "outputs": [],
   "source": []
  }
 ],
 "metadata": {
  "kernelspec": {
   "display_name": "chatbot",
   "language": "python",
   "name": "chatbot"
  },
  "language_info": {
   "codemirror_mode": {
    "name": "ipython",
    "version": 3
   },
   "file_extension": ".py",
   "mimetype": "text/x-python",
   "name": "python",
   "nbconvert_exporter": "python",
   "pygments_lexer": "ipython3",
   "version": "3.7.6"
  },
  "varInspector": {
   "cols": {
    "lenName": 16,
    "lenType": 16,
    "lenVar": 40
   },
   "kernels_config": {
    "python": {
     "delete_cmd_postfix": "",
     "delete_cmd_prefix": "del ",
     "library": "var_list.py",
     "varRefreshCmd": "print(var_dic_list())"
    },
    "r": {
     "delete_cmd_postfix": ") ",
     "delete_cmd_prefix": "rm(",
     "library": "var_list.r",
     "varRefreshCmd": "cat(var_dic_list()) "
    }
   },
   "types_to_exclude": [
    "module",
    "function",
    "builtin_function_or_method",
    "instance",
    "_Feature"
   ],
   "window_display": false
  }
 },
 "nbformat": 4,
 "nbformat_minor": 4
}
