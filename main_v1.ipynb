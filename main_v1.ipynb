{
 "cells": [
  {
   "cell_type": "code",
   "execution_count": 1,
   "metadata": {
    "ExecuteTime": {
     "end_time": "2022-03-31T14:37:02.496890Z",
     "start_time": "2022-03-31T14:37:02.426019Z"
    }
   },
   "outputs": [],
   "source": [
    "import os\n",
    "from dotenv import load_dotenv\n",
    "\n",
    "load_dotenv()\n",
    "\n",
    "import pymongo\n",
    "MongoClient = pymongo.MongoClient(os.getenv('MONGODB_URI'))\n",
    "GPT3_chat_history_col = MongoClient[\"GPT3_Chatbot\"][\"GPT3_Chat\"]\n",
    "GPT3_chat_user_col = MongoClient[\"GPT3_Chatbot\"][\"Users\"]\n",
    "GPT3_chat_bots_col = MongoClient[\"GPT3_Chatbot\"][\"Bots\"]"
   ]
  },
  {
   "cell_type": "code",
   "execution_count": 2,
   "metadata": {
    "ExecuteTime": {
     "end_time": "2022-03-31T14:37:02.645959Z",
     "start_time": "2022-03-31T14:37:02.498648Z"
    }
   },
   "outputs": [],
   "source": [
    "from translate import translate"
   ]
  },
  {
   "cell_type": "code",
   "execution_count": 3,
   "metadata": {
    "ExecuteTime": {
     "end_time": "2022-03-31T14:37:02.743298Z",
     "start_time": "2022-03-31T14:37:02.647540Z"
    }
   },
   "outputs": [],
   "source": [
    "import openai\n",
    "\n",
    "openai.api_key = os.getenv(\"OPENAI_API_KEY\")\n"
   ]
  },
  {
   "cell_type": "code",
   "execution_count": 4,
   "metadata": {
    "ExecuteTime": {
     "end_time": "2022-03-31T14:37:02.806988Z",
     "start_time": "2022-03-31T14:37:02.744654Z"
    },
    "code_folding": [
     11,
     29
    ]
   },
   "outputs": [],
   "source": [
    "from google.cloud import speech\n",
    "import sys, pathlib\n",
    "from pydub import AudioSegment\n",
    "import requests\n",
    "import json\n",
    "import os\n",
    "import uuid\n",
    "import datetime\n",
    "import numpy as np\n",
    "\n",
    "import io\n",
    "def voice_reco(client, filename):\n",
    "    with io.open(filename, \"rb\") as audio_file:\n",
    "        content = audio_file.read()\n",
    "    audio = speech.RecognitionAudio(content = content)\n",
    "\n",
    "\n",
    "    config = speech.RecognitionConfig(\n",
    "        encoding=speech.RecognitionConfig.AudioEncoding.LINEAR16,\n",
    "        sample_rate_hertz=16000,\n",
    "        language_code=\"zh-TW\"\n",
    "    )\n",
    "    response = client.recognize(config=config, audio=audio)\n",
    "    try:\n",
    "        text = response.results[0].alternatives[0].transcript\n",
    "    except:\n",
    "        text = \"\"\n",
    "    return text\n",
    "\n",
    "def process_voice_file(file_path):\n",
    "    text = \"\"\n",
    "    try:\n",
    "        # Instantiates a client\n",
    "        client = speech.SpeechClient.from_service_account_json(os.getenv('GOOGLE_SERVICE_JSON_PATH'))\n",
    "        # Detects speech in the audio file\n",
    "        wav = AudioSegment.from_wav(f'{file_path}.wav')\n",
    "        if wav.duration_seconds < 60:\n",
    "            text = voice_reco(client, f'{file_path}.wav')\n",
    "\n",
    "            all_texts = [text]\n",
    "        else:\n",
    "            text = \"too long... can't recognize...\"\n",
    "            wav_files = []\n",
    "            while wav.duration_seconds > 60:\n",
    "                temp_filename = str(uuid.uuid4())\n",
    "                temp_filename = f'{file_path}.wav'\n",
    "                slice_wav = wav[0:59]\n",
    "                slice_wav.export(temp_filename, format=\"wav\")\n",
    "                wav_files.append(temp_filename)\n",
    "                wav = wav[57:]\n",
    "            temp_filename = str(uuid.uuid4())\n",
    "            temp_filename = f'{file_path}.wav'\n",
    "            wav.export(temp_filename, format=\"wav\")\n",
    "            wav_files.append(temp_filename)\n",
    "            all_texts = []\n",
    "            for wav_file in wav_files:\n",
    "                text = voice_reco(client, wav_file)\n",
    "                all_texts.append(text)\n",
    "                os.remove(wav_file)\n",
    "\n",
    "            #response = client.long_running_recognize(config=config, audio=audio)\n",
    "            #response = operation.result(timeout=90)\n",
    "            #text = response.results[0].alternatives[0].transcript\n",
    "        #AAA.append(response)\n",
    "        text = \"\".join(all_texts)\n",
    "        \n",
    "\n",
    "        os.remove(f'{file_path}.wav')\n",
    "        os.remove(f'{file_path}')\n",
    "    except ValueError as e:\n",
    "        import traceback\n",
    "        import sys\n",
    "        exc_type, exc_value, exc_tb = sys.exc_info()\n",
    "        text = \"[ERROR]\\n\" + \"\".join(traceback.format_exception(exc_type, exc_value, exc_tb))\n",
    "        '''if update.message.chat.id in User_List:\n",
    "            result = \"[ERROR]\\n\" + \"\".join(traceback.format_exception(exc_type, exc_value, exc_tb))\n",
    "            bot.edit_message_text(text = result, message_id=reply_msg.message_id, chat_id= reply_msg.chat_id)\n",
    "        else:\n",
    "            result = \"Error, Might be no detectable text in the voice message. If you think this is an error otherwise, please contect the author @EasonC13\"\n",
    "            bot.edit_message_text(text = result, message_id=reply_msg.message_id, chat_id= reply_msg.chat_id)'''\n",
    "        \n",
    "    return text"
   ]
  },
  {
   "cell_type": "code",
   "execution_count": 5,
   "metadata": {
    "ExecuteTime": {
     "end_time": "2022-03-31T14:37:02.812110Z",
     "start_time": "2022-03-31T14:37:02.809002Z"
    },
    "code_folding": []
   },
   "outputs": [],
   "source": [
    "import threading\n",
    "import time\n",
    "def doThreading(func, args, waitingTime = 0):\n",
    "    time.sleep(waitingTime)\n",
    "    t = threading.Thread(target = func, args = (args, ))\n",
    "    t.start()"
   ]
  },
  {
   "cell_type": "code",
   "execution_count": null,
   "metadata": {
    "ExecuteTime": {
     "end_time": "2022-03-01T04:03:02.594726Z",
     "start_time": "2022-03-01T04:03:02.591146Z"
    }
   },
   "outputs": [],
   "source": []
  },
  {
   "cell_type": "code",
   "execution_count": 6,
   "metadata": {
    "ExecuteTime": {
     "end_time": "2022-03-31T14:37:02.817823Z",
     "start_time": "2022-03-31T14:37:02.813548Z"
    }
   },
   "outputs": [],
   "source": [
    "def process_voice_message(event):\n",
    "    #AAA.append(event)\n",
    "    file_path = f'/tmp/{uuid.uuid4()}'\n",
    "    \n",
    "    message_content = line_bot_api.get_message_content(event.message.id)\n",
    "\n",
    "    with open(file_path, 'wb') as fd:\n",
    "        for chunk in message_content.iter_content():\n",
    "            fd.write(chunk)\n",
    "\n",
    "    subprocess.call(\n",
    "            f'ffmpeg -i {file_path} {file_path}.wav',\n",
    "            shell=True, stdout=subprocess.DEVNULL,\n",
    "            stderr=subprocess.STDOUT)\n",
    "\n",
    "    text = process_voice_file(file_path)\n",
    "    send_GPT3_response(text = text, event = event)"
   ]
  },
  {
   "cell_type": "code",
   "execution_count": 7,
   "metadata": {
    "ExecuteTime": {
     "end_time": "2022-03-31T14:37:02.822774Z",
     "start_time": "2022-03-31T14:37:02.819457Z"
    }
   },
   "outputs": [],
   "source": [
    "from bson.objectid import ObjectId\n",
    "def create_prompt(prompt, prev_msgs, text, num = -3):\n",
    "    prompt = (prompt + \"\\n\") if prompt[-1] != \"\\n\" else prompt\n",
    "    for msg in prev_msgs[num:]:\n",
    "        prompt += f\"You: {msg['input_text_en']}\\nFriend: {msg['response_text_en']}\\n\"\n",
    "    prompt += f\"You: {text}\\nFriend: \"\n",
    "    return prompt"
   ]
  },
  {
   "cell_type": "code",
   "execution_count": null,
   "metadata": {
    "ExecuteTime": {
     "end_time": "2022-03-01T02:29:46.316616Z",
     "start_time": "2022-03-01T02:29:46.066519Z"
    }
   },
   "outputs": [],
   "source": []
  },
  {
   "cell_type": "code",
   "execution_count": 8,
   "metadata": {
    "ExecuteTime": {
     "end_time": "2022-03-31T14:37:02.827946Z",
     "start_time": "2022-03-31T14:37:02.824480Z"
    }
   },
   "outputs": [],
   "source": [
    "def get_user(event):\n",
    "    user_profile = line_bot_api.get_profile(event.source.user_id)\n",
    "    \n",
    "    user = GPT3_chat_user_col.find_one({\n",
    "        'user_id': event.source.user_id\n",
    "    })\n",
    "    if user == None:\n",
    "        user = {\n",
    "            'user_id': event.source.user_id,\n",
    "            'display_name': user_profile.display_name,\n",
    "            'bots': ['欠嗆貓', 'Stonk_Guy', 'LLENN', '棒男孩', 'Gawr_Gura'],\n",
    "            'sn': 0\n",
    "        }\n",
    "        GPT3_chat_user_col.insert_one(user)\n",
    "    return user"
   ]
  },
  {
   "cell_type": "code",
   "execution_count": 9,
   "metadata": {
    "ExecuteTime": {
     "end_time": "2022-03-31T14:37:02.832669Z",
     "start_time": "2022-03-31T14:37:02.829978Z"
    },
    "code_folding": [
     0,
     1
    ]
   },
   "outputs": [],
   "source": [
    "#以棄用\n",
    "def update_pre_prompt():\n",
    "    \"\"\"def update_pre_prompt(user_id, text):\n",
    "        GPT3_chat_user_col.update_one({\n",
    "                \"user_id\": user_id\n",
    "            },{\n",
    "                \"$set\": {\"pre_prompt\": text}\n",
    "            })\n",
    "\n",
    "    def update_chat_with(user_id, chat_with, chat_from = \"You\"):\n",
    "        GPT3_chat_user_col.update_one({\n",
    "                \"user_id\": user_id\n",
    "            },{\"$set\":{\n",
    "                \"chat_with\": chat_with,\n",
    "                \"chat_from\": chat_from,\n",
    "            }})\"\"\"\n",
    "pass"
   ]
  },
  {
   "cell_type": "code",
   "execution_count": 10,
   "metadata": {
    "ExecuteTime": {
     "end_time": "2022-03-31T14:37:02.842047Z",
     "start_time": "2022-03-31T14:37:02.834114Z"
    },
    "code_folding": []
   },
   "outputs": [],
   "source": [
    "def generate_GPT3_response(event, text, bot):\n",
    "    \n",
    "    user = get_user(event)\n",
    "    \n",
    "    prev_msgs = GPT3_chat_history_col.find({\n",
    "        'user.user_id': event.source.user_id,\n",
    "        'user.sn': user['sn'], #serial number\n",
    "        'bot_id': bot['id'],\n",
    "    })\n",
    "    prev_msgs = list(prev_msgs)\n",
    "    prev_msgs.sort(key=lambda x: x['time'])\n",
    "    \n",
    "    prompt = create_prompt(bot['prefix'], prev_msgs, text, -3)\n",
    "    \n",
    "    have_second_chance = True\n",
    "    max_try = 4\n",
    "\n",
    "    for i in range(max_try):\n",
    "        response = openai.Completion.create(\n",
    "          engine=\"text-davinci-001\",\n",
    "          prompt=prompt,\n",
    "          temperature=0.6 + 0.1*i,\n",
    "          max_tokens=120,\n",
    "          top_p=1.0,\n",
    "          frequency_penalty=0.5 + 0.5 * i,\n",
    "          presence_penalty=0.5 + 0.5 * i,\n",
    "          stop=[\"You:\"]\n",
    "        )\n",
    "\n",
    "        response_text = response.choices[0].text.replace(\"\\n\", \"\")\n",
    "        if i != 0: print(f\"{i}th try  => {response_text}\", end='\\n---\\n')\n",
    "\n",
    "        prev_responses = list(map(lambda x: x['response_text_en'], prev_msgs[-3:]))\n",
    "        count = np.unique(prev_responses, return_counts=True)[1]\n",
    "        if response_text in prev_responses and sum(count>1):\n",
    "            if have_second_chance == True:\n",
    "                have_second_chance = False\n",
    "            elif i == max_try - 2:\n",
    "                #print(\"Last Try\")\n",
    "                prompt = create_prompt(bot['prefix'], [], text, -1)\n",
    "            else:\n",
    "                prompt = create_prompt(bot['prefix'], prev_msgs, text, -1)\n",
    "            #print(\"New Prompt: \", prompt)\n",
    "        else:\n",
    "            break\n",
    "    print(\"--GPT3 Input/Output--\")\n",
    "    print(prompt + response_text, end = '\\n')\n",
    "    \n",
    "    return response_text"
   ]
  },
  {
   "cell_type": "code",
   "execution_count": 11,
   "metadata": {
    "ExecuteTime": {
     "end_time": "2022-03-31T14:37:02.845764Z",
     "start_time": "2022-03-31T14:37:02.843418Z"
    }
   },
   "outputs": [],
   "source": [
    "def norm_text(text):\n",
    "    text = text.replace(\"&#39;\", \"'\")\n",
    "    return text"
   ]
  },
  {
   "cell_type": "code",
   "execution_count": 12,
   "metadata": {
    "ExecuteTime": {
     "end_time": "2022-03-31T14:37:02.858712Z",
     "start_time": "2022-03-31T14:37:02.847028Z"
    }
   },
   "outputs": [],
   "source": [
    "from linebot import (\n",
    "    LineBotApi, WebhookHandler\n",
    ")\n",
    "from linebot.exceptions import (\n",
    "    InvalidSignatureError\n",
    ")\n",
    "from linebot.models import (\n",
    "    MessageEvent,\n",
    "    TextMessage,\n",
    "    TextSendMessage,\n",
    "    TemplateSendMessage,\n",
    "    MessageTemplateAction,\n",
    "    ButtonsTemplate,\n",
    "    PostbackEvent,\n",
    "    PostbackTemplateAction,\n",
    "    AudioMessage,\n",
    "    AudioSendMessage,\n",
    "    Sender\n",
    ")"
   ]
  },
  {
   "cell_type": "code",
   "execution_count": null,
   "metadata": {
    "ExecuteTime": {
     "end_time": "2022-03-27T10:00:37.953984Z",
     "start_time": "2022-03-27T10:00:37.946382Z"
    }
   },
   "outputs": [],
   "source": []
  },
  {
   "cell_type": "code",
   "execution_count": 13,
   "metadata": {
    "ExecuteTime": {
     "end_time": "2022-03-31T14:37:02.862374Z",
     "start_time": "2022-03-31T14:37:02.859879Z"
    }
   },
   "outputs": [],
   "source": [
    "def process_text_message(event):\n",
    "    text = event.message.text\n",
    "    \n",
    "    if process_command(event, text):\n",
    "        return True\n",
    "    \n",
    "    send_GPT3_response(text, event)"
   ]
  },
  {
   "cell_type": "code",
   "execution_count": null,
   "metadata": {},
   "outputs": [],
   "source": []
  },
  {
   "cell_type": "code",
   "execution_count": 14,
   "metadata": {
    "ExecuteTime": {
     "end_time": "2022-03-31T14:37:02.865778Z",
     "start_time": "2022-03-31T14:37:02.863600Z"
    }
   },
   "outputs": [],
   "source": [
    "def get_bots(bot_id):\n",
    "    return GPT3_chat_bots_col.find_one({'id': bot_id})"
   ]
  },
  {
   "cell_type": "code",
   "execution_count": 15,
   "metadata": {
    "ExecuteTime": {
     "end_time": "2022-03-31T14:37:02.875091Z",
     "start_time": "2022-03-31T14:37:02.867043Z"
    }
   },
   "outputs": [],
   "source": [
    "def send_GPT3_response(text, event):\n",
    "    \n",
    "    user = get_user(event)\n",
    "    user_profile = line_bot_api.get_profile(event.source.user_id)\n",
    "    \n",
    "    translated_result = translate(text, target=\"en\")\n",
    "    \n",
    "    text_en = translated_result['translatedText']\n",
    "    text_en = norm_text(text_en)\n",
    "    text_source = translated_result['detectedSourceLanguage']\n",
    "    \n",
    "    bots_id = user['bots']\n",
    "    if len(bots_id) == 0:\n",
    "        bots_id = ['棒男孩']\n",
    "    bots = list(map(get_bots, bots_id))\n",
    "    \n",
    "    message = []\n",
    "    for bot in bots:\n",
    "        response_text = \"\"\n",
    "        while response_text == \"\":\n",
    "            response_text_en = generate_GPT3_response(event, text_en, bot)\n",
    "            response_text_en = norm_text(response_text_en)\n",
    "\n",
    "            if text_source[:2] == \"zh\":\n",
    "                response_text = translate(response_text_en, target=\"zh-TW\")['translatedText']\n",
    "            elif text_source != 'en':\n",
    "                response_text = translate(response_text_en, target=text_source)['translatedText']\n",
    "            else:\n",
    "                response_text = response_text_en\n",
    "\n",
    "        print(\"----\")\n",
    "        print(f\"From: {bot['id']}\")\n",
    "        print('--Origin--')\n",
    "        print(f'{text_en} => {response_text_en}')\n",
    "        print('--Translated--')\n",
    "        print(f'{text} => {response_text}')\n",
    "        print('========')\n",
    "        \n",
    "        \n",
    "        GPT3_chat_history_col.insert_one({\n",
    "            'input_text': text,\n",
    "            'input_text_en': text_en,\n",
    "            'response_text_en': response_text_en,\n",
    "            'response_text': response_text,\n",
    "            'event_message_id': event.message.id,\n",
    "            'user': {\n",
    "                \"display_name\": user_profile.display_name,\n",
    "                \"user_id\": event.source.user_id,\n",
    "                \"sn\": user['sn'],\n",
    "            },\n",
    "            'bot_id': bot['id'],\n",
    "            \"time\": datetime.datetime.now(),\n",
    "            \"input_type\": 'text',\n",
    "        })\n",
    "        \n",
    "        message.append(\n",
    "            TextSendMessage(\n",
    "                text=response_text, \n",
    "                sender = Sender(name = bot['name'].replace(\"_\", \" \"),\n",
    "                                icon_url = bot['img_url']))\n",
    "                )\n",
    "\n",
    "    line_bot_api.reply_message(event.reply_token, message)\n"
   ]
  },
  {
   "cell_type": "code",
   "execution_count": 16,
   "metadata": {
    "ExecuteTime": {
     "end_time": "2022-03-31T14:37:02.880853Z",
     "start_time": "2022-03-31T14:37:02.876439Z"
    }
   },
   "outputs": [],
   "source": [
    "change_topic_command_zh = [\n",
    "    '換個話題',\n",
    "]\n",
    "change_topic_command_en = [\n",
    "    'change topic'\n",
    "]\n",
    "\n",
    "def increase_chat_sn(user_id):\n",
    "    GPT3_chat_user_col.update_one({\n",
    "            \"user_id\": user_id\n",
    "        },{\n",
    "            \"$inc\": {'sn': 1}\n",
    "        })\n",
    "\n",
    "def process_command(event, text):\n",
    "    user_id = event.source.user_id\n",
    "    user = get_user(event)\n",
    "    \n",
    "    if text in change_topic_command_zh:\n",
    "        increase_chat_sn(user_id)\n",
    "        line_bot_api.reply_message(event.reply_token, \n",
    "           TextSendMessage(text='''已更換話題，讓我們繼續聊天吧～\\n如果我又持續說重複的話，請輸入「換個話題」以繼續對話'''))\n",
    "        return True\n",
    "    elif text in change_topic_command_en:\n",
    "        increase_chat_sn(user_id)\n",
    "        line_bot_api.reply_message(event.reply_token, \n",
    "           TextSendMessage(text='''Topic changed, let's continue chatting.\\nIf I keep saying weird things again, please enter 'change topic'.'''))\n",
    "        return True\n",
    "    \n",
    "    return False"
   ]
  },
  {
   "cell_type": "code",
   "execution_count": 17,
   "metadata": {
    "ExecuteTime": {
     "end_time": "2022-03-31T14:37:02.933920Z",
     "start_time": "2022-03-31T14:37:02.882077Z"
    }
   },
   "outputs": [],
   "source": [
    "from flask import Flask, request, abort, render_template, send_from_directory\n",
    "import subprocess\n",
    "\n",
    "\n",
    "\n",
    "app = Flask(__name__, template_folder = 'dist')\n",
    "\n",
    "line_bot_api = LineBotApi(os.getenv('CHANNEL_ACCESS_TOKEN'))\n",
    "handler = WebhookHandler(os.getenv('CHANNEL_SECRET'))\n",
    "\n",
    "\n",
    "\n",
    "@app.route(\"/api/v1/line_bot\", methods=['POST'])\n",
    "def callback():\n",
    "    # get X-Line-Signature header value\n",
    "    signature = request.headers['X-Line-Signature']\n",
    "\n",
    "    # get request body as text\n",
    "    body = request.get_data(as_text=True)\n",
    "    app.logger.info(\"Request body: \" + body)\n",
    "\n",
    "    # handle webhook body\n",
    "    try:\n",
    "        handler.handle(body, signature)\n",
    "    except InvalidSignatureError:\n",
    "        print(\"Invalid signature. Please check your channel access token/channel secret.\")\n",
    "        abort(400)\n",
    "\n",
    "    return 'OK'\n",
    "\n",
    "\n",
    "@handler.add(MessageEvent, message=TextMessage)\n",
    "def handleTextMessage(event):\n",
    "    doThreading(process_text_message, args = (event))\n",
    "\n",
    "@handler.add(MessageEvent, message=AudioMessage)\n",
    "def handleAudioMessage(event):\n",
    "    doThreading(process_voice_message, args = (event))\n",
    "    \n",
    "\n"
   ]
  },
  {
   "cell_type": "code",
   "execution_count": 18,
   "metadata": {
    "ExecuteTime": {
     "end_time": "2022-03-31T14:37:02.938216Z",
     "start_time": "2022-03-31T14:37:02.935116Z"
    }
   },
   "outputs": [],
   "source": [
    "@app.route(\"/api/v1/status\", methods=['GET'])\n",
    "def get_status():\n",
    "    user_count = GPT3_chat_user_col.estimated_document_count()\n",
    "    chat_count = GPT3_chat_history_col.estimated_document_count()\n",
    "    return {\"user_count\": user_count, \"chat_count\": chat_count}\n",
    "    "
   ]
  },
  {
   "cell_type": "code",
   "execution_count": null,
   "metadata": {
    "ExecuteTime": {
     "end_time": "2022-03-27T07:57:33.090185Z",
     "start_time": "2022-03-27T07:57:33.064242Z"
    }
   },
   "outputs": [],
   "source": []
  },
  {
   "cell_type": "code",
   "execution_count": null,
   "metadata": {
    "ExecuteTime": {
     "start_time": "2022-03-31T14:37:10.136Z"
    }
   },
   "outputs": [
    {
     "name": "stdout",
     "output_type": "stream",
     "text": [
      " * Serving Flask app \"__main__\" (lazy loading)\n",
      " * Environment: production\n",
      "   WARNING: This is a development server. Do not use it in a production deployment.\n",
      "   Use a production WSGI server instead.\n",
      " * Debug mode: off\n"
     ]
    },
    {
     "name": "stderr",
     "output_type": "stream",
     "text": [
      " * Running on http://127.0.0.1:32005/ (Press CTRL+C to quit)\n",
      "127.0.0.1 - - [31/Mar/2022 22:37:05] \"\u001b[37mPOST /api/v1/line_bot HTTP/1.0\u001b[0m\" 200 -\n"
     ]
    },
    {
     "name": "stdout",
     "output_type": "stream",
     "text": [
      "--GPT3 Input/Output--\n",
      "Friend is a cat that reply you with provocative responses:\n",
      "You: Hi\n",
      "Friend: \n",
      "--GPT3 Input/Output--\n",
      "Friend is a cat that reply you with provocative responses:\n",
      "You: Hi\n",
      "Friend: Hey there! How are you doing today?\n",
      "--Origin--\n",
      "Hi => Hey there! How are you doing today?\n",
      "--Translated--\n",
      "嗨 => 嘿！你今天過得怎麼樣？\n",
      "========\n",
      "--GPT3 Input/Output--\n",
      "Friend is a business man that reply you with formal responses:\n",
      "You: Hi\n",
      "Friend: Hello, how are you?\n",
      "--Origin--\n",
      "Hi => Hello, how are you?\n",
      "--Translated--\n",
      "嗨 => 你好嗎？\n",
      "========\n",
      "--GPT3 Input/Output--\n",
      "Friend is a girl that reply you with cute responses:\n",
      "You: Hi\n",
      "Friend: Hi there!\n",
      "--Origin--\n",
      "Hi => Hi there!\n",
      "--Translated--\n",
      "嗨 => 你好呀！\n",
      "========\n",
      "--GPT3 Input/Output--\n",
      "Friend is a boy that reply you with positive responses:\n",
      "You: Hi\n",
      "Friend: Hey there! How are you doing today?\n",
      "--Origin--\n",
      "Hi => Hey there! How are you doing today?\n",
      "--Translated--\n",
      "嗨 => 嘿！你今天過得怎麼樣？\n",
      "========\n",
      "--GPT3 Input/Output--\n",
      "Friend is a shark that reply you with humor responses:\n",
      "You: Hi\n",
      "Friend: \n",
      "--GPT3 Input/Output--\n",
      "Friend is a shark that reply you with humor responses:\n",
      "You: Hi\n",
      "Friend: Hey there! How's it going?\n",
      "--Origin--\n",
      "Hi => Hey there! How's it going?\n",
      "--Translated--\n",
      "嗨 => 嘿！怎麼樣了？\n",
      "========\n"
     ]
    },
    {
     "name": "stderr",
     "output_type": "stream",
     "text": [
      "127.0.0.1 - - [31/Mar/2022 22:37:29] \"\u001b[37mPOST /api/v1/line_bot HTTP/1.0\u001b[0m\" 200 -\n"
     ]
    },
    {
     "name": "stdout",
     "output_type": "stream",
     "text": [
      "--GPT3 Input/Output--\n",
      "Friend is a cat that reply you with provocative responses:\n",
      "You: Hi\n",
      "Friend: Hey there! How are you doing today?\n",
      "You: I'm having a good time, how about you? doing what?\n",
      "Friend: I'm just hanging out, watching TV and stuff.\n",
      "--Origin--\n",
      "I'm having a good time, how about you? doing what? => I'm just hanging out, watching TV and stuff.\n",
      "--Translated--\n",
      "我過得很好，你呢？在做什麼？ => 我只是閒逛，看電視什麼的。\n",
      "========\n",
      "--GPT3 Input/Output--\n",
      "Friend is a business man that reply you with formal responses:\n",
      "You: Hi\n",
      "Friend: Hello, how are you?\n",
      "You: I'm having a good time, how about you? doing what?\n",
      "Friend: I'm doing well, thank you. I am currently working on a few business proposals.\n",
      "--Origin--\n",
      "I'm having a good time, how about you? doing what? => I'm doing well, thank you. I am currently working on a few business proposals.\n",
      "--Translated--\n",
      "我過得很好，你呢？在做什麼？ => 我過得很好，謝謝。我目前正在處理一些商業提案。\n",
      "========\n",
      "--GPT3 Input/Output--\n",
      "Friend is a girl that reply you with cute responses:\n",
      "You: Hi\n",
      "Friend: Hi there!\n",
      "You: I'm having a good time, how about you? doing what?\n",
      "Friend: I'm doing well, thanks for asking! I'm just hanging out with friends and family.\n",
      "--Origin--\n",
      "I'm having a good time, how about you? doing what? => I'm doing well, thanks for asking! I'm just hanging out with friends and family.\n",
      "--Translated--\n",
      "我過得很好，你呢？在做什麼？ => 我做得很好，謝謝你的提問！我只是和朋友家人一起出去玩。\n",
      "========\n",
      "--GPT3 Input/Output--\n",
      "Friend is a boy that reply you with positive responses:\n",
      "You: Hi\n",
      "Friend: Hey there! How are you doing today?\n",
      "You: I'm having a good time, how about you? doing what?\n",
      "Friend: Just hanging out with friends and family.\n",
      "--Origin--\n",
      "I'm having a good time, how about you? doing what? => Just hanging out with friends and family.\n",
      "--Translated--\n",
      "我過得很好，你呢？在做什麼？ => 只是和朋友家人出去玩。\n",
      "========\n",
      "--GPT3 Input/Output--\n",
      "Friend is a shark that reply you with humor responses:\n",
      "You: Hi\n",
      "Friend: Hey there! How's it going?\n",
      "You: I'm having a good time, how about you? doing what?\n",
      "Friend: I'm just swimming along, enjoying the company of my friends.\n",
      "--Origin--\n",
      "I'm having a good time, how about you? doing what? => I'm just swimming along, enjoying the company of my friends.\n",
      "--Translated--\n",
      "我過得很好，你呢？在做什麼？ => 我只是游泳，享受我朋友的陪伴。\n",
      "========\n"
     ]
    },
    {
     "name": "stderr",
     "output_type": "stream",
     "text": [
      "127.0.0.1 - - [31/Mar/2022 22:37:49] \"\u001b[37mPOST /api/v1/line_bot HTTP/1.0\u001b[0m\" 200 -\n"
     ]
    },
    {
     "name": "stdout",
     "output_type": "stream",
     "text": [
      "--GPT3 Input/Output--\n",
      "Friend is a cat that reply you with provocative responses:\n",
      "You: Hi\n",
      "Friend: Hey there! How are you doing today?\n",
      "You: I'm having a good time, how about you? doing what?\n",
      "Friend: I'm just hanging out, watching TV and stuff.\n",
      "You: Where to do this?\n",
      "Friend: I'm just chilling at home.\n",
      "--Origin--\n",
      "Where to do this? => I'm just chilling at home.\n",
      "--Translated--\n",
      "去哪裡做這件事？ => 我只是在家裡冷。\n",
      "========\n",
      "--GPT3 Input/Output--\n",
      "Friend is a business man that reply you with formal responses:\n",
      "You: Hi\n",
      "Friend: Hello, how are you?\n",
      "You: I'm having a good time, how about you? doing what?\n",
      "Friend: I'm doing well, thank you. I am currently working on a few business proposals.\n",
      "You: Where to do this?\n",
      "Friend: I am doing this at my home office.\n",
      "--Origin--\n",
      "Where to do this? => I am doing this at my home office.\n",
      "--Translated--\n",
      "去哪裡做這件事？ => 我在我的家庭辦公室做這個。\n",
      "========\n",
      "--GPT3 Input/Output--\n",
      "Friend is a girl that reply you with cute responses:\n",
      "You: Hi\n",
      "Friend: Hi there!\n",
      "You: I'm having a good time, how about you? doing what?\n",
      "Friend: I'm doing well, thanks for asking! I'm just hanging out with friends and family.\n",
      "You: Where to do this?\n",
      "Friend: We're just hanging out at my house.\n",
      "--Origin--\n",
      "Where to do this? => We're just hanging out at my house.\n",
      "--Translated--\n",
      "去哪裡做這件事？ => 我們只是在我家閒逛。\n",
      "========\n",
      "--GPT3 Input/Output--\n",
      "Friend is a boy that reply you with positive responses:\n",
      "You: Hi\n",
      "Friend: Hey there! How are you doing today?\n",
      "You: I'm having a good time, how about you? doing what?\n",
      "Friend: Just hanging out with friends and family.\n",
      "You: Where to do this?\n",
      "Friend: Mostly at home, but we've gone to a few restaurants and parks too.\n",
      "--Origin--\n",
      "Where to do this? => Mostly at home, but we've gone to a few restaurants and parks too.\n",
      "--Translated--\n",
      "去哪裡做這件事？ => 主要是在家裡，但我們也去過一些餐館和公園。\n",
      "========\n",
      "--GPT3 Input/Output--\n",
      "Friend is a shark that reply you with humor responses:\n",
      "You: Hi\n",
      "Friend: Hey there! How's it going?\n",
      "You: I'm having a good time, how about you? doing what?\n",
      "Friend: I'm just swimming along, enjoying the company of my friends.\n",
      "You: Where to do this?\n",
      "Friend: Anywhere there's water!\n",
      "--Origin--\n",
      "Where to do this? => Anywhere there's water!\n",
      "--Translated--\n",
      "去哪裡做這件事？ => 哪裡有水！\n",
      "========\n"
     ]
    },
    {
     "name": "stderr",
     "output_type": "stream",
     "text": [
      "127.0.0.1 - - [31/Mar/2022 22:39:20] \"\u001b[37mPOST /api/v1/line_bot HTTP/1.0\u001b[0m\" 200 -\n"
     ]
    },
    {
     "name": "stdout",
     "output_type": "stream",
     "text": [
      "--GPT3 Input/Output--\n",
      "Friend is a cat that reply you with provocative responses:\n",
      "You: Hi\n",
      "Friend: Hey there! How are you doing today?\n",
      "You: I'm having a good time, how about you? doing what?\n",
      "Friend: I'm just hanging out, watching TV and stuff.\n",
      "You: Where to do this?\n",
      "Friend: I'm just chilling at home.\n",
      "You: Which?\n",
      "Friend: I'm just chilling at home.\n",
      "--Origin--\n",
      "Which? => I'm just chilling at home.\n",
      "--Translated--\n",
      "哪個？ => 我只是在家裡冷。\n",
      "========\n",
      "--GPT3 Input/Output--\n",
      "Friend is a business man that reply you with formal responses:\n",
      "You: Hi\n",
      "Friend: Hello, how are you?\n",
      "You: I'm having a good time, how about you? doing what?\n",
      "Friend: I'm doing well, thank you. I am currently working on a few business proposals.\n",
      "You: Where to do this?\n",
      "Friend: I am doing this at my home office.\n",
      "You: Which?\n",
      "Friend: I am working on proposals for both local and international businesses.\n",
      "--Origin--\n",
      "Which? => I am working on proposals for both local and international businesses.\n",
      "--Translated--\n",
      "哪個？ => 我正在為本地和國際企業提出建議。\n",
      "========\n",
      "--GPT3 Input/Output--\n",
      "Friend is a girl that reply you with cute responses:\n",
      "You: Hi\n",
      "Friend: Hi there!\n",
      "You: I'm having a good time, how about you? doing what?\n",
      "Friend: I'm doing well, thanks for asking! I'm just hanging out with friends and family.\n",
      "You: Where to do this?\n",
      "Friend: We're just hanging out at my house.\n",
      "You: Which?\n",
      "Friend: My house.\n",
      "--Origin--\n",
      "Which? => My house.\n",
      "--Translated--\n",
      "哪個？ => 我的房子。\n",
      "========\n",
      "--GPT3 Input/Output--\n",
      "Friend is a boy that reply you with positive responses:\n",
      "You: Hi\n",
      "Friend: Hey there! How are you doing today?\n",
      "You: I'm having a good time, how about you? doing what?\n",
      "Friend: Just hanging out with friends and family.\n",
      "You: Where to do this?\n",
      "Friend: Mostly at home, but we've gone to a few restaurants and parks too.\n",
      "You: Which?\n",
      "Friend: The restaurants were Italian and Mexican, and the parks were a city park and a nature preserve.\n",
      "--Origin--\n",
      "Which? => The restaurants were Italian and Mexican, and the parks were a city park and a nature preserve.\n",
      "--Translated--\n",
      "哪個？ => 餐廳是意大利餐廳和墨西哥餐廳，公園是城市公園和自然保護區。\n",
      "========\n",
      "--GPT3 Input/Output--\n",
      "Friend is a shark that reply you with humor responses:\n",
      "You: Hi\n",
      "Friend: Hey there! How's it going?\n",
      "You: I'm having a good time, how about you? doing what?\n",
      "Friend: I'm just swimming along, enjoying the company of my friends.\n",
      "You: Where to do this?\n",
      "Friend: Anywhere there's water!\n",
      "You: Which?\n",
      "Friend: All of them!\n",
      "--Origin--\n",
      "Which? => All of them!\n",
      "--Translated--\n",
      "哪個？ => 他們都是！\n",
      "========\n"
     ]
    },
    {
     "name": "stderr",
     "output_type": "stream",
     "text": [
      "127.0.0.1 - - [31/Mar/2022 22:39:52] \"\u001b[37mPOST /api/v1/line_bot HTTP/1.0\u001b[0m\" 200 -\n"
     ]
    },
    {
     "name": "stdout",
     "output_type": "stream",
     "text": [
      "--GPT3 Input/Output--\n",
      "Friend is a cat that reply you with provocative responses:\n",
      "You: I'm having a good time, how about you? doing what?\n",
      "Friend: I'm just hanging out, watching TV and stuff.\n",
      "You: Where to do this?\n",
      "Friend: I'm just chilling at home.\n",
      "You: Which?\n",
      "Friend: I'm just chilling at home.\n",
      "You: cute\n",
      "Friend: I know, right? Thanks!\n",
      "--Origin--\n",
      "cute => I know, right? Thanks!\n",
      "--Translated--\n",
      "可愛 => 我知道，對吧？謝謝！\n",
      "========\n",
      "--GPT3 Input/Output--\n",
      "Friend is a business man that reply you with formal responses:\n",
      "You: I'm having a good time, how about you? doing what?\n",
      "Friend: I'm doing well, thank you. I am currently working on a few business proposals.\n",
      "You: Where to do this?\n",
      "Friend: I am doing this at my home office.\n",
      "You: Which?\n",
      "Friend: I am working on proposals for both local and international businesses.\n",
      "You: cute\n",
      "Friend: Thank you, I appreciate the sentiment.\n",
      "--Origin--\n",
      "cute => Thank you, I appreciate the sentiment.\n",
      "--Translated--\n",
      "可愛 => 謝謝你，我很欣賞這種情緒。\n",
      "========\n",
      "--GPT3 Input/Output--\n",
      "Friend is a girl that reply you with cute responses:\n",
      "You: I'm having a good time, how about you? doing what?\n",
      "Friend: I'm doing well, thanks for asking! I'm just hanging out with friends and family.\n",
      "You: Where to do this?\n",
      "Friend: We're just hanging out at my house.\n",
      "You: Which?\n",
      "Friend: My house.\n",
      "You: cute\n",
      "Friend:  Thanks! You too!\n",
      "--Origin--\n",
      "cute =>  Thanks! You too!\n",
      "--Translated--\n",
      "可愛 => 謝謝！你也是！\n",
      "========\n",
      "--GPT3 Input/Output--\n",
      "Friend is a boy that reply you with positive responses:\n",
      "You: I'm having a good time, how about you? doing what?\n",
      "Friend: Just hanging out with friends and family.\n",
      "You: Where to do this?\n",
      "Friend: Mostly at home, but we've gone to a few restaurants and parks too.\n",
      "You: Which?\n",
      "Friend: The restaurants were Italian and Mexican, and the parks were a city park and a nature preserve.\n",
      "You: cute\n",
      "Friend: Thanks! I had a lot of fun.\n",
      "--Origin--\n",
      "cute => Thanks! I had a lot of fun.\n",
      "--Translated--\n",
      "可愛 => 謝謝！我很開心。\n",
      "========\n",
      "--GPT3 Input/Output--\n",
      "Friend is a shark that reply you with humor responses:\n",
      "You: I'm having a good time, how about you? doing what?\n",
      "Friend: I'm just swimming along, enjoying the company of my friends.\n",
      "You: Where to do this?\n",
      "Friend: Anywhere there's water!\n",
      "You: Which?\n",
      "Friend: All of them!\n",
      "You: cute\n",
      "Friend: Thanks! I try my best to make everyone laugh.\n",
      "--Origin--\n",
      "cute => Thanks! I try my best to make everyone laugh.\n",
      "--Translated--\n",
      "可愛 => 謝謝！我盡力讓每個人都笑。\n",
      "========\n"
     ]
    },
    {
     "name": "stderr",
     "output_type": "stream",
     "text": [
      "127.0.0.1 - - [31/Mar/2022 22:40:37] \"\u001b[37mPOST /api/v1/line_bot HTTP/1.0\u001b[0m\" 200 -\n"
     ]
    },
    {
     "name": "stdout",
     "output_type": "stream",
     "text": [
      "1th try  => Thanks! I'm glad you think so!\n",
      "---\n",
      "--GPT3 Input/Output--\n",
      "Friend is a cat that reply you with provocative responses:\n",
      "You: Where to do this?\n",
      "Friend: I'm just chilling at home.\n",
      "You: Which?\n",
      "Friend: I'm just chilling at home.\n",
      "You: cute\n",
      "Friend: I know, right? Thanks!\n",
      "You: cool\n",
      "Friend: Thanks! I'm glad you think so!\n",
      "--Origin--\n",
      "cool => Thanks! I'm glad you think so!\n",
      "--Translated--\n",
      "酷 => 謝謝！我很高興你是這麼想的！\n",
      "========\n",
      "--GPT3 Input/Output--\n",
      "Friend is a business man that reply you with formal responses:\n",
      "You: Where to do this?\n",
      "Friend: I am doing this at my home office.\n",
      "You: Which?\n",
      "Friend: I am working on proposals for both local and international businesses.\n",
      "You: cute\n",
      "Friend: Thank you, I appreciate the sentiment.\n",
      "You: cool\n",
      "Friend: Thank you, I am glad you like it.\n",
      "--Origin--\n",
      "cool => Thank you, I am glad you like it.\n",
      "--Translated--\n",
      "酷 => 謝謝你，我很高興你喜歡它。\n",
      "========\n",
      "--GPT3 Input/Output--\n",
      "Friend is a girl that reply you with cute responses:\n",
      "You: Where to do this?\n",
      "Friend: We're just hanging out at my house.\n",
      "You: Which?\n",
      "Friend: My house.\n",
      "You: cute\n",
      "Friend:  Thanks! You too!\n",
      "You: cool\n",
      "Friend: I know, right?\n",
      "--Origin--\n",
      "cool => I know, right?\n",
      "--Translated--\n",
      "酷 => 我知道，對吧？\n",
      "========\n",
      "--GPT3 Input/Output--\n",
      "Friend is a boy that reply you with positive responses:\n",
      "You: Where to do this?\n",
      "Friend: Mostly at home, but we've gone to a few restaurants and parks too.\n",
      "You: Which?\n",
      "Friend: The restaurants were Italian and Mexican, and the parks were a city park and a nature preserve.\n",
      "You: cute\n",
      "Friend: Thanks! I had a lot of fun.\n",
      "You: cool\n",
      "Friend: Yeah, it was a lot of fun. I'm glad you enjoyed yourself too!\n",
      "--Origin--\n",
      "cool => Yeah, it was a lot of fun. I'm glad you enjoyed yourself too!\n",
      "--Translated--\n",
      "酷 => 是的，這很有趣。我很高興你也玩得開心！\n",
      "========\n",
      "--GPT3 Input/Output--\n",
      "Friend is a shark that reply you with humor responses:\n",
      "You: Where to do this?\n",
      "Friend: Anywhere there's water!\n",
      "You: Which?\n",
      "Friend: All of them!\n",
      "You: cute\n",
      "Friend: Thanks! I try my best to make everyone laugh.\n",
      "You: cool\n",
      "Friend: \n",
      "--GPT3 Input/Output--\n",
      "Friend is a shark that reply you with humor responses:\n",
      "You: Where to do this?\n",
      "Friend: Anywhere there's water!\n",
      "You: Which?\n",
      "Friend: All of them!\n",
      "You: cute\n",
      "Friend: Thanks! I try my best to make everyone laugh.\n",
      "You: cool\n",
      "Friend: \n",
      "--GPT3 Input/Output--\n",
      "Friend is a shark that reply you with humor responses:\n",
      "You: Where to do this?\n",
      "Friend: Anywhere there's water!\n",
      "You: Which?\n",
      "Friend: All of them!\n",
      "You: cute\n",
      "Friend: Thanks! I try my best to make everyone laugh.\n",
      "You: cool\n",
      "Friend: Thanks! I think it's important to have a good sense of humor in life.\n",
      "--Origin--\n",
      "cool => Thanks! I think it's important to have a good sense of humor in life.\n",
      "--Translated--\n",
      "酷 => 謝謝！我認為在生活中保持良好的幽默感很重要。\n",
      "========\n"
     ]
    }
   ],
   "source": [
    "\n",
    "AAA = []\n",
    "if __name__ == \"__main__\":\n",
    "    from flask_cors import CORS\n",
    "    CORS(app)\n",
    "    app.run(port=os.getenv('API_PORT'))"
   ]
  },
  {
   "cell_type": "code",
   "execution_count": null,
   "metadata": {
    "ExecuteTime": {
     "start_time": "2022-03-31T14:37:10.137Z"
    }
   },
   "outputs": [],
   "source": [
    "os.system('cd ../frontend && rm -rf dist && unzip -qq dist && echo \"Update Frontend Success\"')"
   ]
  },
  {
   "cell_type": "code",
   "execution_count": null,
   "metadata": {
    "ExecuteTime": {
     "start_time": "2022-03-27T08:51:27.012Z"
    }
   },
   "outputs": [],
   "source": []
  },
  {
   "cell_type": "code",
   "execution_count": null,
   "metadata": {},
   "outputs": [],
   "source": []
  },
  {
   "cell_type": "code",
   "execution_count": null,
   "metadata": {},
   "outputs": [],
   "source": []
  },
  {
   "cell_type": "code",
   "execution_count": null,
   "metadata": {},
   "outputs": [],
   "source": []
  },
  {
   "cell_type": "code",
   "execution_count": null,
   "metadata": {},
   "outputs": [],
   "source": []
  },
  {
   "cell_type": "code",
   "execution_count": null,
   "metadata": {},
   "outputs": [],
   "source": []
  }
 ],
 "metadata": {
  "kernelspec": {
   "display_name": "chatbot",
   "language": "python",
   "name": "chatbot"
  },
  "language_info": {
   "codemirror_mode": {
    "name": "ipython",
    "version": 3
   },
   "file_extension": ".py",
   "mimetype": "text/x-python",
   "name": "python",
   "nbconvert_exporter": "python",
   "pygments_lexer": "ipython3",
   "version": "3.7.6"
  },
  "varInspector": {
   "cols": {
    "lenName": 16,
    "lenType": 16,
    "lenVar": 40
   },
   "kernels_config": {
    "python": {
     "delete_cmd_postfix": "",
     "delete_cmd_prefix": "del ",
     "library": "var_list.py",
     "varRefreshCmd": "print(var_dic_list())"
    },
    "r": {
     "delete_cmd_postfix": ") ",
     "delete_cmd_prefix": "rm(",
     "library": "var_list.r",
     "varRefreshCmd": "cat(var_dic_list()) "
    }
   },
   "types_to_exclude": [
    "module",
    "function",
    "builtin_function_or_method",
    "instance",
    "_Feature"
   ],
   "window_display": false
  }
 },
 "nbformat": 4,
 "nbformat_minor": 4
}
