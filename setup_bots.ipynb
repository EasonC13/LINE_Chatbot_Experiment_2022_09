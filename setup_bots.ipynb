{
 "cells": [
  {
   "cell_type": "code",
   "execution_count": 7,
   "metadata": {
    "ExecuteTime": {
     "end_time": "2022-03-31T14:11:22.336571Z",
     "start_time": "2022-03-31T14:11:22.306173Z"
    }
   },
   "outputs": [
    {
     "data": {
      "text/plain": [
       "True"
      ]
     },
     "execution_count": 7,
     "metadata": {},
     "output_type": "execute_result"
    }
   ],
   "source": [
    "import os\n",
    "from dotenv import load_dotenv\n",
    "\n",
    "load_dotenv()"
   ]
  },
  {
   "cell_type": "code",
   "execution_count": 8,
   "metadata": {
    "ExecuteTime": {
     "end_time": "2022-03-31T14:11:22.514571Z",
     "start_time": "2022-03-31T14:11:22.454039Z"
    }
   },
   "outputs": [],
   "source": [
    "import pymongo\n",
    "MongoClient = pymongo.MongoClient(os.getenv('MONGODB_URI'))\n",
    "GPT3_chat_bots_col = MongoClient[\"GPT3_Chatbot\"][\"Bots\"]"
   ]
  },
  {
   "cell_type": "code",
   "execution_count": 13,
   "metadata": {
    "ExecuteTime": {
     "end_time": "2022-03-31T14:35:51.803346Z",
     "start_time": "2022-03-31T14:35:51.797306Z"
    }
   },
   "outputs": [],
   "source": [
    "bots = [\n",
    "    {\n",
    "    'img_url': 'https://i.imgur.com/EL3znkD.png',\n",
    "    'name': '欠嗆貓',\n",
    "    'prefix': 'Friend is a cat that reply you with provocative responses:'\n",
    "    },\n",
    "    {\n",
    "    'img_url': 'https://i.imgur.com/gd31Rla.png',\n",
    "    'name': 'Doge',\n",
    "    'prefix': 'Friend is a rich man that reply you with luxurious responses:'\n",
    "    },\n",
    "    {\n",
    "    'img_url': 'https://i.imgur.com/rRALZsm.png',\n",
    "    'name': 'Stonk_Guy',\n",
    "    'prefix': 'Friend is a business man that reply you with formal responses:'\n",
    "    },\n",
    "    {\n",
    "    'img_url': 'https://i.imgur.com/QsuWIdL.png',\n",
    "    'name': 'LLENN',\n",
    "    'prefix': 'Friend is a girl that reply you with cute responses:'\n",
    "    },\n",
    "    {\n",
    "    'img_url': 'https://i.imgur.com/uZb0BLi.png',\n",
    "    'name': '棒男孩',\n",
    "    'prefix': 'Friend is a boy that reply you with positive responses:'\n",
    "    },\n",
    "    {\n",
    "    'img_url': 'https://i.imgur.com/Bss7dcB.png',\n",
    "    'name': 'Gawr_Gura',\n",
    "    'prefix': 'Friend is a shark that reply you with humor responses:'\n",
    "    },\n",
    "]"
   ]
  },
  {
   "cell_type": "code",
   "execution_count": 14,
   "metadata": {
    "ExecuteTime": {
     "end_time": "2022-03-31T14:35:52.151063Z",
     "start_time": "2022-03-31T14:35:52.135400Z"
    }
   },
   "outputs": [],
   "source": [
    "for bot in bots:\n",
    "    bot['use_count'] = 0\n",
    "    bot['id'] = bot['name']\n",
    "    GPT3_chat_bots_col.insert_one(bot)"
   ]
  },
  {
   "cell_type": "code",
   "execution_count": null,
   "metadata": {},
   "outputs": [],
   "source": []
  },
  {
   "cell_type": "code",
   "execution_count": 5,
   "metadata": {
    "ExecuteTime": {
     "end_time": "2022-03-31T13:16:26.111960Z",
     "start_time": "2022-03-31T13:16:26.106318Z"
    }
   },
   "outputs": [
    {
     "data": {
      "text/plain": [
       "{'img': 'https://i.imgur.com/Bss7dcB.png',\n",
       " 'name': 'Gawr Gura',\n",
       " 'prefix': 'Friend is a shark that reply you with humor responses:'}"
      ]
     },
     "execution_count": 5,
     "metadata": {},
     "output_type": "execute_result"
    }
   ],
   "source": [
    "bot"
   ]
  }
 ],
 "metadata": {
  "kernelspec": {
   "display_name": "chatbot",
   "language": "python",
   "name": "chatbot"
  },
  "language_info": {
   "codemirror_mode": {
    "name": "ipython",
    "version": 3
   },
   "file_extension": ".py",
   "mimetype": "text/x-python",
   "name": "python",
   "nbconvert_exporter": "python",
   "pygments_lexer": "ipython3",
   "version": "3.7.6"
  },
  "varInspector": {
   "cols": {
    "lenName": 16,
    "lenType": 16,
    "lenVar": 40
   },
   "kernels_config": {
    "python": {
     "delete_cmd_postfix": "",
     "delete_cmd_prefix": "del ",
     "library": "var_list.py",
     "varRefreshCmd": "print(var_dic_list())"
    },
    "r": {
     "delete_cmd_postfix": ") ",
     "delete_cmd_prefix": "rm(",
     "library": "var_list.r",
     "varRefreshCmd": "cat(var_dic_list()) "
    }
   },
   "types_to_exclude": [
    "module",
    "function",
    "builtin_function_or_method",
    "instance",
    "_Feature"
   ],
   "window_display": false
  }
 },
 "nbformat": 4,
 "nbformat_minor": 4
}
