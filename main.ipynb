{
 "cells": [
  {
   "cell_type": "code",
   "execution_count": 1,
   "metadata": {
    "ExecuteTime": {
     "end_time": "2021-12-28T06:14:45.343578Z",
     "start_time": "2021-12-28T06:14:45.302027Z"
    }
   },
   "outputs": [
    {
     "data": {
      "text/plain": [
       "True"
      ]
     },
     "execution_count": 1,
     "metadata": {},
     "output_type": "execute_result"
    }
   ],
   "source": [
    "import os\n",
    "from dotenv import load_dotenv\n",
    "\n",
    "load_dotenv()"
   ]
  },
  {
   "cell_type": "code",
   "execution_count": 2,
   "metadata": {
    "ExecuteTime": {
     "end_time": "2021-12-28T06:14:45.534922Z",
     "start_time": "2021-12-28T06:14:45.346554Z"
    }
   },
   "outputs": [],
   "source": [
    "from google.cloud import speech\n",
    "import sys, pathlib\n",
    "from pydub import AudioSegment\n",
    "import requests\n",
    "import json\n",
    "import os\n",
    "import uuid\n",
    "import datetime\n",
    "\n",
    "import io\n",
    "def voice_reco(client, filename):\n",
    "    with io.open(filename, \"rb\") as audio_file:\n",
    "        content = audio_file.read()\n",
    "    audio = speech.RecognitionAudio(content = content)\n",
    "\n",
    "\n",
    "    config = speech.RecognitionConfig(\n",
    "        encoding=speech.RecognitionConfig.AudioEncoding.LINEAR16,\n",
    "        sample_rate_hertz=16000,\n",
    "        language_code=\"zh-TW\"\n",
    "    )\n",
    "    response = client.recognize(config=config, audio=audio)\n",
    "    try:\n",
    "        text = response.results[0].alternatives[0].transcript\n",
    "    except:\n",
    "        text = \"\"\n",
    "    return text\n",
    "\n",
    "def process_voice_file(file_path):\n",
    "    text = \"\"\n",
    "    try:\n",
    "        # Instantiates a client\n",
    "        client = speech.SpeechClient.from_service_account_json(os.getenv('GOOGLE_SERVICE_JSON_PATH'))\n",
    "        # Detects speech in the audio file\n",
    "        wav = AudioSegment.from_wav(f'{file_path}.wav')\n",
    "        if wav.duration_seconds < 60:\n",
    "            text = voice_reco(client, f'{file_path}.wav')\n",
    "\n",
    "            all_texts = [text]\n",
    "        else:\n",
    "            text = \"too long... can't recognize...\"\n",
    "            wav_files = []\n",
    "            while wav.duration_seconds > 60:\n",
    "                temp_filename = str(uuid.uuid4())\n",
    "                temp_filename = f'{file_path}.wav'\n",
    "                slice_wav = wav[0:59]\n",
    "                slice_wav.export(temp_filename, format=\"wav\")\n",
    "                wav_files.append(temp_filename)\n",
    "                wav = wav[57:]\n",
    "            temp_filename = str(uuid.uuid4())\n",
    "            temp_filename = f'{file_path}.wav'\n",
    "            wav.export(temp_filename, format=\"wav\")\n",
    "            wav_files.append(temp_filename)\n",
    "            all_texts = []\n",
    "            for wav_file in wav_files:\n",
    "                text = voice_reco(client, wav_file)\n",
    "                all_texts.append(text)\n",
    "                os.remove(wav_file)\n",
    "\n",
    "            #response = client.long_running_recognize(config=config, audio=audio)\n",
    "            #response = operation.result(timeout=90)\n",
    "            #text = response.results[0].alternatives[0].transcript\n",
    "        #AAA.append(response)\n",
    "        text = \"\".join(all_texts)\n",
    "        \n",
    "\n",
    "        os.remove(f'{file_path}.wav')\n",
    "        os.remove(f'{file_path}')\n",
    "    except ValueError as e:\n",
    "        import traceback\n",
    "        import sys\n",
    "        exc_type, exc_value, exc_tb = sys.exc_info()\n",
    "        text = \"[ERROR]\\n\" + \"\".join(traceback.format_exception(exc_type, exc_value, exc_tb))\n",
    "        '''if update.message.chat.id in User_List:\n",
    "            result = \"[ERROR]\\n\" + \"\".join(traceback.format_exception(exc_type, exc_value, exc_tb))\n",
    "            bot.edit_message_text(text = result, message_id=reply_msg.message_id, chat_id= reply_msg.chat_id)\n",
    "        else:\n",
    "            result = \"Error, Might be no detectable text in the voice message. If you think this is an error otherwise, please contect the author @EasonC13\"\n",
    "            bot.edit_message_text(text = result, message_id=reply_msg.message_id, chat_id= reply_msg.chat_id)'''\n",
    "        \n",
    "    return text"
   ]
  },
  {
   "cell_type": "code",
   "execution_count": 3,
   "metadata": {
    "ExecuteTime": {
     "end_time": "2021-12-28T06:14:45.539691Z",
     "start_time": "2021-12-28T06:14:45.536690Z"
    }
   },
   "outputs": [],
   "source": [
    "import threading\n",
    "import time\n",
    "def doThreading(func, args, waitingTime = 0):\n",
    "    time.sleep(waitingTime)\n",
    "    t = threading.Thread(target = func, args = (args, ))\n",
    "    t.start()"
   ]
  },
  {
   "cell_type": "code",
   "execution_count": 4,
   "metadata": {
    "ExecuteTime": {
     "end_time": "2021-12-28T06:14:45.544849Z",
     "start_time": "2021-12-28T06:14:45.541278Z"
    }
   },
   "outputs": [],
   "source": [
    "def generate_text_response(input_text):\n",
    "    result = requests.post(os.getenv('API_URL'), \n",
    "                      headers = {'accept': 'application/json',\n",
    "                                 'Content-Type': 'application/json'},\n",
    "                      data = json.dumps({\n",
    "                          \"email\": os.getenv('API_USER'),\n",
    "                          \"secret\": os.getenv('API_SECRET'),\n",
    "                          \"text\": input_text,\n",
    "                          \"emotion\": 1,\n",
    "                          \"response_count\": 1,\n",
    "                      }))\n",
    "    response_text = result.json()[\"responses\"][0]\n",
    "\n",
    "    return response_text\n",
    "    print(f\"{text} => {response_text}\")"
   ]
  },
  {
   "cell_type": "code",
   "execution_count": 6,
   "metadata": {
    "ExecuteTime": {
     "end_time": "2021-12-28T06:14:48.028883Z",
     "start_time": "2021-12-28T06:14:48.023985Z"
    }
   },
   "outputs": [],
   "source": [
    "def process_voice_message(event):\n",
    "    file_path = f'/tmp/{uuid.uuid4()}'\n",
    "    \n",
    "    message_content = line_bot_api.get_message_content(event.message.id)\n",
    "\n",
    "    with open(file_path, 'wb') as fd:\n",
    "        for chunk in message_content.iter_content():\n",
    "            fd.write(chunk)\n",
    "\n",
    "    subprocess.call(\n",
    "            f'ffmpeg -i {file_path} {file_path}.wav',\n",
    "            shell=True)\n",
    "\n",
    "    text = process_voice_file(file_path)\n",
    "    response_text = generate_text_response(text)\n",
    "    print(f'{text} => {response_text}')\n",
    "\n",
    "    line_bot_api.reply_message(\n",
    "        event.reply_token,\n",
    "        TextSendMessage(text=response_text))\n",
    "\n",
    "    user_profile = line_bot_api.get_profile(event.source.user_id)\n",
    "    col.insert_one({\n",
    "        'input_text': text,\n",
    "        'response_text': response_text,\n",
    "        'event_message_id': event.message.id,\n",
    "        'user': {\n",
    "            \"display_name\": user_profile.display_name,\n",
    "            \"user_id\": event.source.user_id\n",
    "        },\n",
    "        \"time\": datetime.datetime.now(),\n",
    "        \"input_type\": 'voice',\n",
    "    })"
   ]
  },
  {
   "cell_type": "code",
   "execution_count": 7,
   "metadata": {
    "ExecuteTime": {
     "end_time": "2021-12-28T06:14:48.033986Z",
     "start_time": "2021-12-28T06:14:48.030095Z"
    }
   },
   "outputs": [],
   "source": [
    "def process_text_message(event):\n",
    "    text = event.message.text\n",
    "    response_text = generate_text_response(text)\n",
    "    print(f'{text} => {response_text}')\n",
    "\n",
    "    line_bot_api.reply_message(\n",
    "        event.reply_token,\n",
    "        TextSendMessage(text=response_text))\n",
    "\n",
    "    user_profile = line_bot_api.get_profile(event.source.user_id)\n",
    "    col.insert_one({\n",
    "        'input_text': text,\n",
    "        'response_text': response_text,\n",
    "        'event_message_id': event.message.id,\n",
    "        'user': {\n",
    "            \"display_name\": user_profile.display_name,\n",
    "            \"user_id\": event.source.user_id\n",
    "        },\n",
    "        \"time\": datetime.datetime.now(),\n",
    "        \"input_type\": 'text',\n",
    "    })"
   ]
  },
  {
   "cell_type": "code",
   "execution_count": 8,
   "metadata": {
    "ExecuteTime": {
     "end_time": "2021-12-28T06:14:48.039332Z",
     "start_time": "2021-12-28T06:14:48.035574Z"
    }
   },
   "outputs": [
    {
     "data": {
      "text/plain": [
       "True"
      ]
     },
     "execution_count": 8,
     "metadata": {},
     "output_type": "execute_result"
    }
   ],
   "source": [
    "import os\n",
    "from dotenv import load_dotenv\n",
    "\n",
    "load_dotenv()"
   ]
  },
  {
   "cell_type": "code",
   "execution_count": null,
   "metadata": {
    "ExecuteTime": {
     "start_time": "2021-12-28T06:14:43.899Z"
    },
    "scrolled": true
   },
   "outputs": [
    {
     "name": "stdout",
     "output_type": "stream",
     "text": [
      " * Serving Flask app \"__main__\" (lazy loading)\n",
      " * Environment: production\n",
      "   WARNING: This is a development server. Do not use it in a production deployment.\n",
      "   Use a production WSGI server instead.\n",
      " * Debug mode: off\n"
     ]
    },
    {
     "name": "stderr",
     "output_type": "stream",
     "text": [
      " * Running on http://127.0.0.1:32004/ (Press CTRL+C to quit)\n"
     ]
    }
   ],
   "source": [
    "from flask import Flask, request, abort\n",
    "import subprocess\n",
    "\n",
    "from linebot import (\n",
    "    LineBotApi, WebhookHandler\n",
    ")\n",
    "from linebot.exceptions import (\n",
    "    InvalidSignatureError\n",
    ")\n",
    "from linebot.models import (\n",
    "    MessageEvent, TextMessage, TextSendMessage, AudioMessage, AudioSendMessage\n",
    ")\n",
    "\n",
    "app = Flask(__name__)\n",
    "\n",
    "line_bot_api = LineBotApi(os.getenv('CHANNEL_ACCESS_TOKEN'))\n",
    "handler = WebhookHandler(os.getenv('CHANNEL_SECRET'))\n",
    "\n",
    "import pymongo\n",
    "MongoClient = pymongo.MongoClient(os.getenv('MONGODB_URI'))\n",
    "col = MongoClient[\"Service_Log\"][\"LINE_Accompany_Chat\"]\n",
    "\n",
    "@app.route(\"/service_learning\", methods=['POST'])\n",
    "def callback():\n",
    "    # get X-Line-Signature header value\n",
    "    signature = request.headers['X-Line-Signature']\n",
    "\n",
    "    # get request body as text\n",
    "    body = request.get_data(as_text=True)\n",
    "    app.logger.info(\"Request body: \" + body)\n",
    "\n",
    "    # handle webhook body\n",
    "    try:\n",
    "        handler.handle(body, signature)\n",
    "    except InvalidSignatureError:\n",
    "        print(\"Invalid signature. Please check your channel access token/channel secret.\")\n",
    "        abort(400)\n",
    "\n",
    "    return 'OK'\n",
    "\n",
    "\n",
    "@handler.add(MessageEvent, message=TextMessage)\n",
    "def handleTextMessage(event):\n",
    "    doThreading(process_text_message, args = (event))\n",
    "    \n",
    "@handler.add(MessageEvent, message=AudioMessage)\n",
    "def handleAudioMessage(event):\n",
    "    doThreading(process_voice_message, args = (event))\n",
    "    \n",
    "\n",
    "    \n",
    "\n",
    "AAA = []\n",
    "if __name__ == \"__main__\":\n",
    "    app.run(port=32004)"
   ]
  },
  {
   "cell_type": "code",
   "execution_count": null,
   "metadata": {},
   "outputs": [],
   "source": []
  }
 ],
 "metadata": {
  "kernelspec": {
   "display_name": "chatbot",
   "language": "python",
   "name": "chatbot"
  },
  "language_info": {
   "codemirror_mode": {
    "name": "ipython",
    "version": 3
   },
   "file_extension": ".py",
   "mimetype": "text/x-python",
   "name": "python",
   "nbconvert_exporter": "python",
   "pygments_lexer": "ipython3",
   "version": "3.7.6"
  }
 },
 "nbformat": 4,
 "nbformat_minor": 4
}
